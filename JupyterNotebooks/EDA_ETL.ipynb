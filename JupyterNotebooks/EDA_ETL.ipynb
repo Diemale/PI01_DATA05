{
 "cells": [
  {
   "cell_type": "code",
   "execution_count": 1,
   "id": "e94d8c07",
   "metadata": {},
   "outputs": [],
   "source": [
    "import pandas as pd\n",
    "import seaborn as sns\n",
    "import numpy as np"
   ]
  },
  {
   "cell_type": "markdown",
   "id": "72de6ff9",
   "metadata": {},
   "source": [
    "# EDA "
   ]
  },
  {
   "cell_type": "code",
   "execution_count": 3,
   "id": "21783c01",
   "metadata": {},
   "outputs": [],
   "source": [
    "df1 = pd.read_csv('..\\\\Datasets\\\\amazon_prime_titles.csv')"
   ]
  },
  {
   "cell_type": "code",
   "execution_count": 4,
   "id": "9dd635ea",
   "metadata": {},
   "outputs": [
    {
     "data": {
      "text/html": [
       "<div>\n",
       "<style scoped>\n",
       "    .dataframe tbody tr th:only-of-type {\n",
       "        vertical-align: middle;\n",
       "    }\n",
       "\n",
       "    .dataframe tbody tr th {\n",
       "        vertical-align: top;\n",
       "    }\n",
       "\n",
       "    .dataframe thead th {\n",
       "        text-align: right;\n",
       "    }\n",
       "</style>\n",
       "<table border=\"1\" class=\"dataframe\">\n",
       "  <thead>\n",
       "    <tr style=\"text-align: right;\">\n",
       "      <th></th>\n",
       "      <th>show_id</th>\n",
       "      <th>type</th>\n",
       "      <th>title</th>\n",
       "      <th>director</th>\n",
       "      <th>cast</th>\n",
       "      <th>country</th>\n",
       "      <th>date_added</th>\n",
       "      <th>release_year</th>\n",
       "      <th>rating</th>\n",
       "      <th>duration</th>\n",
       "      <th>listed_in</th>\n",
       "      <th>description</th>\n",
       "    </tr>\n",
       "  </thead>\n",
       "  <tbody>\n",
       "    <tr>\n",
       "      <th>0</th>\n",
       "      <td>s1</td>\n",
       "      <td>Movie</td>\n",
       "      <td>The Grand Seduction</td>\n",
       "      <td>Don McKellar</td>\n",
       "      <td>Brendan Gleeson, Taylor Kitsch, Gordon Pinsent</td>\n",
       "      <td>Canada</td>\n",
       "      <td>March 30, 2021</td>\n",
       "      <td>2014</td>\n",
       "      <td>NaN</td>\n",
       "      <td>113 min</td>\n",
       "      <td>Comedy, Drama</td>\n",
       "      <td>A small fishing village must procure a local d...</td>\n",
       "    </tr>\n",
       "    <tr>\n",
       "      <th>1</th>\n",
       "      <td>s2</td>\n",
       "      <td>Movie</td>\n",
       "      <td>Take Care Good Night</td>\n",
       "      <td>Girish Joshi</td>\n",
       "      <td>Mahesh Manjrekar, Abhay Mahajan, Sachin Khedekar</td>\n",
       "      <td>India</td>\n",
       "      <td>March 30, 2021</td>\n",
       "      <td>2018</td>\n",
       "      <td>13+</td>\n",
       "      <td>110 min</td>\n",
       "      <td>Drama, International</td>\n",
       "      <td>A Metro Family decides to fight a Cyber Crimin...</td>\n",
       "    </tr>\n",
       "    <tr>\n",
       "      <th>2</th>\n",
       "      <td>s3</td>\n",
       "      <td>Movie</td>\n",
       "      <td>Secrets of Deception</td>\n",
       "      <td>Josh Webber</td>\n",
       "      <td>Tom Sizemore, Lorenzo Lamas, Robert LaSardo, R...</td>\n",
       "      <td>United States</td>\n",
       "      <td>March 30, 2021</td>\n",
       "      <td>2017</td>\n",
       "      <td>NaN</td>\n",
       "      <td>74 min</td>\n",
       "      <td>Action, Drama, Suspense</td>\n",
       "      <td>After a man discovers his wife is cheating on ...</td>\n",
       "    </tr>\n",
       "    <tr>\n",
       "      <th>3</th>\n",
       "      <td>s4</td>\n",
       "      <td>Movie</td>\n",
       "      <td>Pink: Staying True</td>\n",
       "      <td>Sonia Anderson</td>\n",
       "      <td>Interviews with: Pink, Adele, Beyoncé, Britney...</td>\n",
       "      <td>United States</td>\n",
       "      <td>March 30, 2021</td>\n",
       "      <td>2014</td>\n",
       "      <td>NaN</td>\n",
       "      <td>69 min</td>\n",
       "      <td>Documentary</td>\n",
       "      <td>Pink breaks the mold once again, bringing her ...</td>\n",
       "    </tr>\n",
       "    <tr>\n",
       "      <th>4</th>\n",
       "      <td>s5</td>\n",
       "      <td>Movie</td>\n",
       "      <td>Monster Maker</td>\n",
       "      <td>Giles Foster</td>\n",
       "      <td>Harry Dean Stanton, Kieran O'Brien, George Cos...</td>\n",
       "      <td>United Kingdom</td>\n",
       "      <td>March 30, 2021</td>\n",
       "      <td>1989</td>\n",
       "      <td>NaN</td>\n",
       "      <td>45 min</td>\n",
       "      <td>Drama, Fantasy</td>\n",
       "      <td>Teenage Matt Banting wants to work with a famo...</td>\n",
       "    </tr>\n",
       "    <tr>\n",
       "      <th>5</th>\n",
       "      <td>s6</td>\n",
       "      <td>Movie</td>\n",
       "      <td>Living With Dinosaurs</td>\n",
       "      <td>Paul Weiland</td>\n",
       "      <td>Gregory Chisholm, Juliet Stevenson, Brian Hens...</td>\n",
       "      <td>United Kingdom</td>\n",
       "      <td>March 30, 2021</td>\n",
       "      <td>1989</td>\n",
       "      <td>NaN</td>\n",
       "      <td>52 min</td>\n",
       "      <td>Fantasy, Kids</td>\n",
       "      <td>The story unfolds in a an English seaside town...</td>\n",
       "    </tr>\n",
       "    <tr>\n",
       "      <th>6</th>\n",
       "      <td>s7</td>\n",
       "      <td>Movie</td>\n",
       "      <td>Hired Gun</td>\n",
       "      <td>Fran Strine</td>\n",
       "      <td>Alice Cooper, Liberty DeVitto, Ray Parker Jr.,...</td>\n",
       "      <td>United States</td>\n",
       "      <td>March 30, 2021</td>\n",
       "      <td>2017</td>\n",
       "      <td>NaN</td>\n",
       "      <td>98 min</td>\n",
       "      <td>Documentary, Special Interest</td>\n",
       "      <td>They are the \"First Call, A-list\" musicians, j...</td>\n",
       "    </tr>\n",
       "    <tr>\n",
       "      <th>7</th>\n",
       "      <td>s8</td>\n",
       "      <td>Movie</td>\n",
       "      <td>Grease Live!</td>\n",
       "      <td>Thomas Kail, Alex Rudzinski</td>\n",
       "      <td>Julianne Hough, Aaron Tveit, Vanessa Hudgens, ...</td>\n",
       "      <td>United States</td>\n",
       "      <td>March 30, 2021</td>\n",
       "      <td>2016</td>\n",
       "      <td>NaN</td>\n",
       "      <td>131 min</td>\n",
       "      <td>Comedy</td>\n",
       "      <td>This honest, uncompromising comedy chronicles ...</td>\n",
       "    </tr>\n",
       "    <tr>\n",
       "      <th>8</th>\n",
       "      <td>s9</td>\n",
       "      <td>Movie</td>\n",
       "      <td>Global Meltdown</td>\n",
       "      <td>Daniel Gilboy</td>\n",
       "      <td>Michael Paré, Leanne Khol Young, Patrick J. Ma...</td>\n",
       "      <td>Canada</td>\n",
       "      <td>March 30, 2021</td>\n",
       "      <td>2017</td>\n",
       "      <td>NaN</td>\n",
       "      <td>87 min</td>\n",
       "      <td>Action, Science Fiction, Suspense</td>\n",
       "      <td>A helicopter pilot and an environmental scient...</td>\n",
       "    </tr>\n",
       "    <tr>\n",
       "      <th>9</th>\n",
       "      <td>s10</td>\n",
       "      <td>Movie</td>\n",
       "      <td>David's Mother</td>\n",
       "      <td>Robert Allan Ackerman</td>\n",
       "      <td>Kirstie Alley, Sam Waterston, Stockard Channing</td>\n",
       "      <td>United States</td>\n",
       "      <td>April 1, 2021</td>\n",
       "      <td>1994</td>\n",
       "      <td>NaN</td>\n",
       "      <td>92 min</td>\n",
       "      <td>Drama</td>\n",
       "      <td>Sally Goodson is a devoted mother to her autis...</td>\n",
       "    </tr>\n",
       "    <tr>\n",
       "      <th>10</th>\n",
       "      <td>s11</td>\n",
       "      <td>Movie</td>\n",
       "      <td>Forest Fairies</td>\n",
       "      <td>Justin G. Dyck</td>\n",
       "      <td>Emily Wilder, Adrian Cowan, Gary Mckenzie, Jer...</td>\n",
       "      <td>Canada</td>\n",
       "      <td>April 4, 2021</td>\n",
       "      <td>2016</td>\n",
       "      <td>NaN</td>\n",
       "      <td>88 min</td>\n",
       "      <td>Adventure, Kids</td>\n",
       "      <td>Amanda stumbles upon a hidden village of fairi...</td>\n",
       "    </tr>\n",
       "    <tr>\n",
       "      <th>11</th>\n",
       "      <td>s12</td>\n",
       "      <td>Movie</td>\n",
       "      <td>Take Care</td>\n",
       "      <td>Liz Tuccillo</td>\n",
       "      <td>Leslie Bibb, Kevin Curtis, Nadia Dajani</td>\n",
       "      <td>United States</td>\n",
       "      <td>April 10, 2021</td>\n",
       "      <td>2014</td>\n",
       "      <td>NaN</td>\n",
       "      <td>93 min</td>\n",
       "      <td>Comedy</td>\n",
       "      <td>When a car crash leaves Frannie immobilized, s...</td>\n",
       "    </tr>\n",
       "    <tr>\n",
       "      <th>12</th>\n",
       "      <td>s13</td>\n",
       "      <td>Movie</td>\n",
       "      <td>The Night Eats The World</td>\n",
       "      <td>Dominique Rocher</td>\n",
       "      <td>Anders Danielsen Lie, Golshifteh Farahani, Den...</td>\n",
       "      <td>France</td>\n",
       "      <td>April 17, 2021</td>\n",
       "      <td>2018</td>\n",
       "      <td>NaN</td>\n",
       "      <td>94 min</td>\n",
       "      <td>Horror, Suspense</td>\n",
       "      <td>After waking up in an apartment the night afte...</td>\n",
       "    </tr>\n",
       "    <tr>\n",
       "      <th>13</th>\n",
       "      <td>s14</td>\n",
       "      <td>Movie</td>\n",
       "      <td>Resilencia</td>\n",
       "      <td>Jep Barcelona</td>\n",
       "      <td>Rafinha Alcantara, Marc-André Ter Stegen, Serg...</td>\n",
       "      <td>Spain</td>\n",
       "      <td>April 24, 2021</td>\n",
       "      <td>2020</td>\n",
       "      <td>NaN</td>\n",
       "      <td>46 min</td>\n",
       "      <td>Documentary, Sports</td>\n",
       "      <td>The documentary follows the midfielder’s every...</td>\n",
       "    </tr>\n",
       "    <tr>\n",
       "      <th>14</th>\n",
       "      <td>s15</td>\n",
       "      <td>Movie</td>\n",
       "      <td>Elon Musk: The Real Life Iron Man</td>\n",
       "      <td>Sonia Anderson</td>\n",
       "      <td>Elon Musk, Per Wimmer, Julie Anderson-Ankenbra...</td>\n",
       "      <td>United Kingdom</td>\n",
       "      <td>May 2, 2021</td>\n",
       "      <td>2018</td>\n",
       "      <td>NaN</td>\n",
       "      <td>74 min</td>\n",
       "      <td>Documentary</td>\n",
       "      <td>Discover the meteoric rise of Elon Musk, the m...</td>\n",
       "    </tr>\n",
       "    <tr>\n",
       "      <th>15</th>\n",
       "      <td>s16</td>\n",
       "      <td>Movie</td>\n",
       "      <td>Summer '03</td>\n",
       "      <td>Becca Gleason</td>\n",
       "      <td>Joey King, Jack Kilmer, Andrea Savage, Paul Sc...</td>\n",
       "      <td>United States</td>\n",
       "      <td>June 3, 2021</td>\n",
       "      <td>2019</td>\n",
       "      <td>NaN</td>\n",
       "      <td>96 min</td>\n",
       "      <td>Comedy, Drama</td>\n",
       "      <td>Summer '03 is the hilarious story of 16-year-o...</td>\n",
       "    </tr>\n",
       "    <tr>\n",
       "      <th>16</th>\n",
       "      <td>s17</td>\n",
       "      <td>Movie</td>\n",
       "      <td>Zoombies</td>\n",
       "      <td>Glenn Miller</td>\n",
       "      <td>Marcus Anderson, Kaiwi Lyman, Andrew Asper</td>\n",
       "      <td>NaN</td>\n",
       "      <td>NaN</td>\n",
       "      <td>2016</td>\n",
       "      <td>13+</td>\n",
       "      <td>87 min</td>\n",
       "      <td>Horror, Science Fiction</td>\n",
       "      <td>When a strange virus quickly spreads through a...</td>\n",
       "    </tr>\n",
       "    <tr>\n",
       "      <th>17</th>\n",
       "      <td>s18</td>\n",
       "      <td>TV Show</td>\n",
       "      <td>Zoo Babies</td>\n",
       "      <td>NaN</td>\n",
       "      <td>Narrator - Gillian Barlett</td>\n",
       "      <td>NaN</td>\n",
       "      <td>NaN</td>\n",
       "      <td>2008</td>\n",
       "      <td>ALL</td>\n",
       "      <td>1 Season</td>\n",
       "      <td>Kids, Special Interest</td>\n",
       "      <td>A heart warming and inspiring series that welc...</td>\n",
       "    </tr>\n",
       "    <tr>\n",
       "      <th>18</th>\n",
       "      <td>s19</td>\n",
       "      <td>TV Show</td>\n",
       "      <td>Zoë Coombs Marr: Bossy Bottom</td>\n",
       "      <td>NaN</td>\n",
       "      <td>Zoë Coombs Marr</td>\n",
       "      <td>NaN</td>\n",
       "      <td>NaN</td>\n",
       "      <td>2020</td>\n",
       "      <td>18+</td>\n",
       "      <td>1 Season</td>\n",
       "      <td>Comedy, Talk Show and Variety</td>\n",
       "      <td>Zoë Coombs Marr has been on hiatus. Sort of. F...</td>\n",
       "    </tr>\n",
       "    <tr>\n",
       "      <th>19</th>\n",
       "      <td>s20</td>\n",
       "      <td>Movie</td>\n",
       "      <td>Zoe</td>\n",
       "      <td>Drake Doremus</td>\n",
       "      <td>Ewan McGregor, Léa Seydoux, Theo James, Mirand...</td>\n",
       "      <td>NaN</td>\n",
       "      <td>NaN</td>\n",
       "      <td>2018</td>\n",
       "      <td>R</td>\n",
       "      <td>104 min</td>\n",
       "      <td>Science Fiction</td>\n",
       "      <td>ZOE tells a tale of forbidden love between an ...</td>\n",
       "    </tr>\n",
       "    <tr>\n",
       "      <th>20</th>\n",
       "      <td>s21</td>\n",
       "      <td>TV Show</td>\n",
       "      <td>Zoboomafoo</td>\n",
       "      <td>NaN</td>\n",
       "      <td>NaN</td>\n",
       "      <td>NaN</td>\n",
       "      <td>NaN</td>\n",
       "      <td>2001</td>\n",
       "      <td>TV-Y</td>\n",
       "      <td>1 Season</td>\n",
       "      <td>Kids</td>\n",
       "      <td>Chris and Martin Kratt bring their enthusiasm ...</td>\n",
       "    </tr>\n",
       "    <tr>\n",
       "      <th>21</th>\n",
       "      <td>s22</td>\n",
       "      <td>TV Show</td>\n",
       "      <td>Zo Zo Zombie: Mini-Series</td>\n",
       "      <td>NaN</td>\n",
       "      <td>Alex Cazares, Ben Diskin, Cristina Vee, Erika ...</td>\n",
       "      <td>NaN</td>\n",
       "      <td>NaN</td>\n",
       "      <td>2020</td>\n",
       "      <td>TV-Y7</td>\n",
       "      <td>1 Season</td>\n",
       "      <td>Action, Anime, Comedy</td>\n",
       "      <td>Zo Zo Zombie is our undead hero who, with his ...</td>\n",
       "    </tr>\n",
       "    <tr>\n",
       "      <th>22</th>\n",
       "      <td>s23</td>\n",
       "      <td>Movie</td>\n",
       "      <td>Zis Boom Bah</td>\n",
       "      <td>William Nigh</td>\n",
       "      <td>Grace Hayes, Mary Healy</td>\n",
       "      <td>NaN</td>\n",
       "      <td>NaN</td>\n",
       "      <td>1941</td>\n",
       "      <td>NR</td>\n",
       "      <td>62 min</td>\n",
       "      <td>Arts, Entertainment, and Culture, Comedy, Drama</td>\n",
       "      <td>\"Hey, kids, let's get together and put on a sh...</td>\n",
       "    </tr>\n",
       "    <tr>\n",
       "      <th>23</th>\n",
       "      <td>s24</td>\n",
       "      <td>TV Show</td>\n",
       "      <td>ZeroZeroZero</td>\n",
       "      <td>NaN</td>\n",
       "      <td>ANDREA RISEBOROUGH, HAROLD TORRES, CLAUDIA PIN...</td>\n",
       "      <td>Italy</td>\n",
       "      <td>NaN</td>\n",
       "      <td>2020</td>\n",
       "      <td>18+</td>\n",
       "      <td>1 Season</td>\n",
       "      <td>TV Shows</td>\n",
       "      <td>ZeroZeroZero series follows the journey of a c...</td>\n",
       "    </tr>\n",
       "    <tr>\n",
       "      <th>24</th>\n",
       "      <td>s25</td>\n",
       "      <td>Movie</td>\n",
       "      <td>Zandalee</td>\n",
       "      <td>Sam Pillsbury</td>\n",
       "      <td>Nicolas Cage, Judge Reinhold, Erika Anderson, ...</td>\n",
       "      <td>NaN</td>\n",
       "      <td>NaN</td>\n",
       "      <td>1991</td>\n",
       "      <td>R</td>\n",
       "      <td>94 min</td>\n",
       "      <td>Drama</td>\n",
       "      <td>Zandalee has grown bored with her poet-turned-...</td>\n",
       "    </tr>\n",
       "    <tr>\n",
       "      <th>25</th>\n",
       "      <td>s26</td>\n",
       "      <td>Movie</td>\n",
       "      <td>Zambezi: Force of Life</td>\n",
       "      <td>Dr. Rudolf Lammers</td>\n",
       "      <td>NaN</td>\n",
       "      <td>NaN</td>\n",
       "      <td>NaN</td>\n",
       "      <td>2005</td>\n",
       "      <td>ALL</td>\n",
       "      <td>50 min</td>\n",
       "      <td>Documentary</td>\n",
       "      <td>The Zambezi river is the fourth-longest river ...</td>\n",
       "    </tr>\n",
       "    <tr>\n",
       "      <th>26</th>\n",
       "      <td>s27</td>\n",
       "      <td>TV Show</td>\n",
       "      <td>Zahara: The Return</td>\n",
       "      <td>NaN</td>\n",
       "      <td>Natasha Heschélle, Curtis Morgan, Hannah Scott...</td>\n",
       "      <td>NaN</td>\n",
       "      <td>NaN</td>\n",
       "      <td>2020</td>\n",
       "      <td>16+</td>\n",
       "      <td>1 Season</td>\n",
       "      <td>TV Shows</td>\n",
       "      <td>The story explores the history of slavery and ...</td>\n",
       "    </tr>\n",
       "    <tr>\n",
       "      <th>27</th>\n",
       "      <td>s28</td>\n",
       "      <td>TV Show</td>\n",
       "      <td>Z: The Beginning of Everything</td>\n",
       "      <td>NaN</td>\n",
       "      <td>Christina Ricci  ",
       ", David Hoflin</td>\n",
       "      <td>United States</td>\n",
       "      <td>NaN</td>\n",
       "      <td>2017</td>\n",
       "      <td>18+</td>\n",
       "      <td>1 Season</td>\n",
       "      <td>Comedy, Drama</td>\n",
       "      <td>\"Z: The Beginning of Everything\" tells the sto...</td>\n",
       "    </tr>\n",
       "    <tr>\n",
       "      <th>28</th>\n",
       "      <td>s29</td>\n",
       "      <td>TV Show</td>\n",
       "      <td>Yu-Gi-Oh! Zexal</td>\n",
       "      <td>NaN</td>\n",
       "      <td>Eli Jay, Marc Thompson, Sean Schemmel, Eileen ...</td>\n",
       "      <td>NaN</td>\n",
       "      <td>NaN</td>\n",
       "      <td>2015</td>\n",
       "      <td>TV-Y7</td>\n",
       "      <td>3 Seasons</td>\n",
       "      <td>Animation, Anime, Fantasy</td>\n",
       "      <td>It's time to feel the flow as Yu-Gi-Oh! Zexal ...</td>\n",
       "    </tr>\n",
       "    <tr>\n",
       "      <th>29</th>\n",
       "      <td>s30</td>\n",
       "      <td>TV Show</td>\n",
       "      <td>Yu-Gi-Oh! ARC-V</td>\n",
       "      <td>NaN</td>\n",
       "      <td>Michael Liscio Jr., Emily Bauer</td>\n",
       "      <td>NaN</td>\n",
       "      <td>NaN</td>\n",
       "      <td>2018</td>\n",
       "      <td>TV-Y7</td>\n",
       "      <td>3 Seasons</td>\n",
       "      <td>Action, Adventure, Animation</td>\n",
       "      <td>Get set to swing into action as Yu-Gi-Oh! ARC-...</td>\n",
       "    </tr>\n",
       "    <tr>\n",
       "      <th>30</th>\n",
       "      <td>s31</td>\n",
       "      <td>TV Show</td>\n",
       "      <td>Yu-Gi-Oh! 5D's</td>\n",
       "      <td>NaN</td>\n",
       "      <td>Gregory Abbey, Bella Hudson, Ed Paul</td>\n",
       "      <td>NaN</td>\n",
       "      <td>NaN</td>\n",
       "      <td>2011</td>\n",
       "      <td>TV-Y7</td>\n",
       "      <td>2 Seasons</td>\n",
       "      <td>Anime, Kids</td>\n",
       "      <td>With the defeat of Director Goodwin and the Da...</td>\n",
       "    </tr>\n",
       "    <tr>\n",
       "      <th>31</th>\n",
       "      <td>s32</td>\n",
       "      <td>TV Show</td>\n",
       "      <td>Your Bleeped Up Brain</td>\n",
       "      <td>NaN</td>\n",
       "      <td>Dobrokhotova Ekaterina, Mike New</td>\n",
       "      <td>NaN</td>\n",
       "      <td>NaN</td>\n",
       "      <td>2013</td>\n",
       "      <td>TV-PG</td>\n",
       "      <td>1 Season</td>\n",
       "      <td>TV Shows</td>\n",
       "      <td>See what an alien abduction reveals about your...</td>\n",
       "    </tr>\n",
       "    <tr>\n",
       "      <th>32</th>\n",
       "      <td>s33</td>\n",
       "      <td>Movie</td>\n",
       "      <td>Young Lovers</td>\n",
       "      <td>Ida Lupino</td>\n",
       "      <td>Sally Forrest, Keefe Brasselle, Hugh O'Brian, ...</td>\n",
       "      <td>NaN</td>\n",
       "      <td>NaN</td>\n",
       "      <td>1949</td>\n",
       "      <td>18+</td>\n",
       "      <td>86 min</td>\n",
       "      <td>Drama</td>\n",
       "      <td>Talented and beautiful Carol Williams (Forrest...</td>\n",
       "    </tr>\n",
       "    <tr>\n",
       "      <th>33</th>\n",
       "      <td>s34</td>\n",
       "      <td>Movie</td>\n",
       "      <td>Young Love (at the Sun Factory)</td>\n",
       "      <td>NaN</td>\n",
       "      <td>NaN</td>\n",
       "      <td>NaN</td>\n",
       "      <td>NaN</td>\n",
       "      <td>2007</td>\n",
       "      <td>NR</td>\n",
       "      <td>36 min</td>\n",
       "      <td>Music Videos and Concerts</td>\n",
       "      <td>Young Love celebrates the release of \"Too Youn...</td>\n",
       "    </tr>\n",
       "    <tr>\n",
       "      <th>34</th>\n",
       "      <td>s35</td>\n",
       "      <td>Movie</td>\n",
       "      <td>Young Love (at Bowery Ballroom)</td>\n",
       "      <td>NaN</td>\n",
       "      <td>NaN</td>\n",
       "      <td>NaN</td>\n",
       "      <td>NaN</td>\n",
       "      <td>2007</td>\n",
       "      <td>NR</td>\n",
       "      <td>37 min</td>\n",
       "      <td>Music Videos and Concerts</td>\n",
       "      <td>Young Love returns to Baeble's silver screen w...</td>\n",
       "    </tr>\n",
       "    <tr>\n",
       "      <th>35</th>\n",
       "      <td>s36</td>\n",
       "      <td>TV Show</td>\n",
       "      <td>Young Lions</td>\n",
       "      <td>NaN</td>\n",
       "      <td>Alex Dimitriades, Alexandra Davies, Tom Long, ...</td>\n",
       "      <td>NaN</td>\n",
       "      <td>NaN</td>\n",
       "      <td>2002</td>\n",
       "      <td>16+</td>\n",
       "      <td>1 Season</td>\n",
       "      <td>Drama, Suspense</td>\n",
       "      <td>Australian police show about two male and two ...</td>\n",
       "    </tr>\n",
       "    <tr>\n",
       "      <th>36</th>\n",
       "      <td>s37</td>\n",
       "      <td>Movie</td>\n",
       "      <td>You're Not You</td>\n",
       "      <td>George C. Wolfe</td>\n",
       "      <td>Hilary Swank, Emmy Rossum, Josh Duhamel</td>\n",
       "      <td>NaN</td>\n",
       "      <td>NaN</td>\n",
       "      <td>2015</td>\n",
       "      <td>R</td>\n",
       "      <td>103 min</td>\n",
       "      <td>Drama</td>\n",
       "      <td>A drama centered on a classical pianist who ha...</td>\n",
       "    </tr>\n",
       "    <tr>\n",
       "      <th>37</th>\n",
       "      <td>s38</td>\n",
       "      <td>Movie</td>\n",
       "      <td>You, Me and Him</td>\n",
       "      <td>Daisy Aitkens</td>\n",
       "      <td>David Tennant, Lucy Punch, Faye Marsay, Gemma ...</td>\n",
       "      <td>NaN</td>\n",
       "      <td>NaN</td>\n",
       "      <td>2017</td>\n",
       "      <td>NaN</td>\n",
       "      <td>98 min</td>\n",
       "      <td>Comedy, Drama</td>\n",
       "      <td>In You, Me and Him we meet lesbian couple Oliv...</td>\n",
       "    </tr>\n",
       "    <tr>\n",
       "      <th>38</th>\n",
       "      <td>s39</td>\n",
       "      <td>Movie</td>\n",
       "      <td>Yoga with Sound Meditations</td>\n",
       "      <td>Mark Knight</td>\n",
       "      <td>Ann-Marie Newland</td>\n",
       "      <td>NaN</td>\n",
       "      <td>NaN</td>\n",
       "      <td>2016</td>\n",
       "      <td>ALL</td>\n",
       "      <td>9 min</td>\n",
       "      <td>Fitness, Special Interest</td>\n",
       "      <td>This session will establish how to prepare for...</td>\n",
       "    </tr>\n",
       "    <tr>\n",
       "      <th>39</th>\n",
       "      <td>s40</td>\n",
       "      <td>Movie</td>\n",
       "      <td>Yoga to Harness Your Chakra Energy</td>\n",
       "      <td>Mark Knight</td>\n",
       "      <td>Caroline Shola Arewa</td>\n",
       "      <td>NaN</td>\n",
       "      <td>NaN</td>\n",
       "      <td>2014</td>\n",
       "      <td>ALL</td>\n",
       "      <td>18 min</td>\n",
       "      <td>Faith and Spirituality, Special Interest</td>\n",
       "      <td>Sharecare Windows presents Caroline Shola Arew...</td>\n",
       "    </tr>\n",
       "    <tr>\n",
       "      <th>40</th>\n",
       "      <td>s41</td>\n",
       "      <td>Movie</td>\n",
       "      <td>Yoga to Ease Flight Anxiety</td>\n",
       "      <td>Mark Knight</td>\n",
       "      <td>Anne-Marie Newland</td>\n",
       "      <td>NaN</td>\n",
       "      <td>NaN</td>\n",
       "      <td>2016</td>\n",
       "      <td>ALL</td>\n",
       "      <td>14 min</td>\n",
       "      <td>Fitness, Special Interest</td>\n",
       "      <td>Reduce the stress of flying by using these sim...</td>\n",
       "    </tr>\n",
       "    <tr>\n",
       "      <th>41</th>\n",
       "      <td>s42</td>\n",
       "      <td>Movie</td>\n",
       "      <td>Yoga to Break Any Habit</td>\n",
       "      <td>Mark Knight</td>\n",
       "      <td>Dr Daniel J Nightingale</td>\n",
       "      <td>NaN</td>\n",
       "      <td>NaN</td>\n",
       "      <td>2014</td>\n",
       "      <td>ALL</td>\n",
       "      <td>20 min</td>\n",
       "      <td>Special Interest</td>\n",
       "      <td>This session with Dr Daniel J Nightingale is h...</td>\n",
       "    </tr>\n",
       "    <tr>\n",
       "      <th>42</th>\n",
       "      <td>s43</td>\n",
       "      <td>TV Show</td>\n",
       "      <td>Yoga Therapy For Back Pain, Neck Pain &amp; Stress...</td>\n",
       "      <td>NaN</td>\n",
       "      <td>Lindsey Samper</td>\n",
       "      <td>NaN</td>\n",
       "      <td>NaN</td>\n",
       "      <td>2018</td>\n",
       "      <td>ALL</td>\n",
       "      <td>1 Season</td>\n",
       "      <td>Fitness</td>\n",
       "      <td>Lindsey teaches you how to relieve pain &amp; tens...</td>\n",
       "    </tr>\n",
       "    <tr>\n",
       "      <th>43</th>\n",
       "      <td>s44</td>\n",
       "      <td>Movie</td>\n",
       "      <td>Yoga Savasana Relaxation</td>\n",
       "      <td>Mark Knight</td>\n",
       "      <td>Anne-Marie Newland</td>\n",
       "      <td>NaN</td>\n",
       "      <td>NaN</td>\n",
       "      <td>2014</td>\n",
       "      <td>ALL</td>\n",
       "      <td>19 min</td>\n",
       "      <td>Fitness, Special Interest</td>\n",
       "      <td>Relax and reduce your stress while you lay dow...</td>\n",
       "    </tr>\n",
       "    <tr>\n",
       "      <th>44</th>\n",
       "      <td>s45</td>\n",
       "      <td>Movie</td>\n",
       "      <td>Yoga for Relaxation Anywhere</td>\n",
       "      <td>Mark Knight</td>\n",
       "      <td>Anne-Marie Newland</td>\n",
       "      <td>NaN</td>\n",
       "      <td>NaN</td>\n",
       "      <td>2014</td>\n",
       "      <td>ALL</td>\n",
       "      <td>18 min</td>\n",
       "      <td>Fitness, Special Interest</td>\n",
       "      <td>Yoga relaxation takes the whole body into a de...</td>\n",
       "    </tr>\n",
       "    <tr>\n",
       "      <th>45</th>\n",
       "      <td>s46</td>\n",
       "      <td>Movie</td>\n",
       "      <td>Yoga for Relaxation and Stress Relief Anywhere</td>\n",
       "      <td>Mark Knight</td>\n",
       "      <td>Anne-Marie Newland</td>\n",
       "      <td>NaN</td>\n",
       "      <td>NaN</td>\n",
       "      <td>2014</td>\n",
       "      <td>ALL</td>\n",
       "      <td>20 min</td>\n",
       "      <td>Fitness, Special Interest</td>\n",
       "      <td>This session was designed to help you relax an...</td>\n",
       "    </tr>\n",
       "    <tr>\n",
       "      <th>46</th>\n",
       "      <td>s47</td>\n",
       "      <td>Movie</td>\n",
       "      <td>Yoga for Relaxation and Stress Relief</td>\n",
       "      <td>Mark Knight</td>\n",
       "      <td>Anne-Marie Newland</td>\n",
       "      <td>NaN</td>\n",
       "      <td>NaN</td>\n",
       "      <td>2014</td>\n",
       "      <td>ALL</td>\n",
       "      <td>20 min</td>\n",
       "      <td>Special Interest</td>\n",
       "      <td>Relax and reduce your stress while you lay dow...</td>\n",
       "    </tr>\n",
       "    <tr>\n",
       "      <th>47</th>\n",
       "      <td>s48</td>\n",
       "      <td>Movie</td>\n",
       "      <td>Yoga for Mindfulness and Meditation</td>\n",
       "      <td>Mark Knight</td>\n",
       "      <td>Anne-Marie Newland</td>\n",
       "      <td>NaN</td>\n",
       "      <td>NaN</td>\n",
       "      <td>2016</td>\n",
       "      <td>ALL</td>\n",
       "      <td>22 min</td>\n",
       "      <td>Fitness, Special Interest</td>\n",
       "      <td>We take you through Buddhist mindful philosoph...</td>\n",
       "    </tr>\n",
       "    <tr>\n",
       "      <th>48</th>\n",
       "      <td>s49</td>\n",
       "      <td>Movie</td>\n",
       "      <td>Yoga for Men's Health</td>\n",
       "      <td>Mark Knight</td>\n",
       "      <td>Anne-Marie Newland</td>\n",
       "      <td>NaN</td>\n",
       "      <td>NaN</td>\n",
       "      <td>2016</td>\n",
       "      <td>ALL</td>\n",
       "      <td>60 min</td>\n",
       "      <td>Fitness, Special Interest</td>\n",
       "      <td>This session helps create confidence with simp...</td>\n",
       "    </tr>\n",
       "    <tr>\n",
       "      <th>49</th>\n",
       "      <td>s50</td>\n",
       "      <td>Movie</td>\n",
       "      <td>Yoga for Breath Awareness</td>\n",
       "      <td>Mark Knight</td>\n",
       "      <td>Anne-Marie Newland</td>\n",
       "      <td>NaN</td>\n",
       "      <td>NaN</td>\n",
       "      <td>2016</td>\n",
       "      <td>ALL</td>\n",
       "      <td>6 min</td>\n",
       "      <td>Fitness, Special Interest</td>\n",
       "      <td>This breathing practice will reduce stress, ca...</td>\n",
       "    </tr>\n",
       "  </tbody>\n",
       "</table>\n",
       "</div>"
      ],
      "text/plain": [
       "   show_id     type                                              title  \\\n",
       "0       s1    Movie                                The Grand Seduction   \n",
       "1       s2    Movie                               Take Care Good Night   \n",
       "2       s3    Movie                               Secrets of Deception   \n",
       "3       s4    Movie                                 Pink: Staying True   \n",
       "4       s5    Movie                                      Monster Maker   \n",
       "5       s6    Movie                              Living With Dinosaurs   \n",
       "6       s7    Movie                                          Hired Gun   \n",
       "7       s8    Movie                                       Grease Live!   \n",
       "8       s9    Movie                                    Global Meltdown   \n",
       "9      s10    Movie                                     David's Mother   \n",
       "10     s11    Movie                                     Forest Fairies   \n",
       "11     s12    Movie                                          Take Care   \n",
       "12     s13    Movie                           The Night Eats The World   \n",
       "13     s14    Movie                                         Resilencia   \n",
       "14     s15    Movie                  Elon Musk: The Real Life Iron Man   \n",
       "15     s16    Movie                                         Summer '03   \n",
       "16     s17    Movie                                           Zoombies   \n",
       "17     s18  TV Show                                         Zoo Babies   \n",
       "18     s19  TV Show                      Zoë Coombs Marr: Bossy Bottom   \n",
       "19     s20    Movie                                                Zoe   \n",
       "20     s21  TV Show                                         Zoboomafoo   \n",
       "21     s22  TV Show                          Zo Zo Zombie: Mini-Series   \n",
       "22     s23    Movie                                       Zis Boom Bah   \n",
       "23     s24  TV Show                                       ZeroZeroZero   \n",
       "24     s25    Movie                                           Zandalee   \n",
       "25     s26    Movie                             Zambezi: Force of Life   \n",
       "26     s27  TV Show                                 Zahara: The Return   \n",
       "27     s28  TV Show                     Z: The Beginning of Everything   \n",
       "28     s29  TV Show                                    Yu-Gi-Oh! Zexal   \n",
       "29     s30  TV Show                                    Yu-Gi-Oh! ARC-V   \n",
       "30     s31  TV Show                                     Yu-Gi-Oh! 5D's   \n",
       "31     s32  TV Show                              Your Bleeped Up Brain   \n",
       "32     s33    Movie                                       Young Lovers   \n",
       "33     s34    Movie                    Young Love (at the Sun Factory)   \n",
       "34     s35    Movie                    Young Love (at Bowery Ballroom)   \n",
       "35     s36  TV Show                                        Young Lions   \n",
       "36     s37    Movie                                     You're Not You   \n",
       "37     s38    Movie                                    You, Me and Him   \n",
       "38     s39    Movie                        Yoga with Sound Meditations   \n",
       "39     s40    Movie                 Yoga to Harness Your Chakra Energy   \n",
       "40     s41    Movie                        Yoga to Ease Flight Anxiety   \n",
       "41     s42    Movie                            Yoga to Break Any Habit   \n",
       "42     s43  TV Show  Yoga Therapy For Back Pain, Neck Pain & Stress...   \n",
       "43     s44    Movie                           Yoga Savasana Relaxation   \n",
       "44     s45    Movie                       Yoga for Relaxation Anywhere   \n",
       "45     s46    Movie     Yoga for Relaxation and Stress Relief Anywhere   \n",
       "46     s47    Movie              Yoga for Relaxation and Stress Relief   \n",
       "47     s48    Movie                Yoga for Mindfulness and Meditation   \n",
       "48     s49    Movie                              Yoga for Men's Health   \n",
       "49     s50    Movie                          Yoga for Breath Awareness   \n",
       "\n",
       "                       director  \\\n",
       "0                  Don McKellar   \n",
       "1                  Girish Joshi   \n",
       "2                   Josh Webber   \n",
       "3                Sonia Anderson   \n",
       "4                  Giles Foster   \n",
       "5                  Paul Weiland   \n",
       "6                   Fran Strine   \n",
       "7   Thomas Kail, Alex Rudzinski   \n",
       "8                 Daniel Gilboy   \n",
       "9         Robert Allan Ackerman   \n",
       "10               Justin G. Dyck   \n",
       "11                 Liz Tuccillo   \n",
       "12             Dominique Rocher   \n",
       "13                Jep Barcelona   \n",
       "14               Sonia Anderson   \n",
       "15                Becca Gleason   \n",
       "16                 Glenn Miller   \n",
       "17                          NaN   \n",
       "18                          NaN   \n",
       "19                Drake Doremus   \n",
       "20                          NaN   \n",
       "21                          NaN   \n",
       "22                 William Nigh   \n",
       "23                          NaN   \n",
       "24                Sam Pillsbury   \n",
       "25           Dr. Rudolf Lammers   \n",
       "26                          NaN   \n",
       "27                          NaN   \n",
       "28                          NaN   \n",
       "29                          NaN   \n",
       "30                          NaN   \n",
       "31                          NaN   \n",
       "32                   Ida Lupino   \n",
       "33                          NaN   \n",
       "34                          NaN   \n",
       "35                          NaN   \n",
       "36              George C. Wolfe   \n",
       "37                Daisy Aitkens   \n",
       "38                  Mark Knight   \n",
       "39                  Mark Knight   \n",
       "40                  Mark Knight   \n",
       "41                  Mark Knight   \n",
       "42                          NaN   \n",
       "43                  Mark Knight   \n",
       "44                  Mark Knight   \n",
       "45                  Mark Knight   \n",
       "46                  Mark Knight   \n",
       "47                  Mark Knight   \n",
       "48                  Mark Knight   \n",
       "49                  Mark Knight   \n",
       "\n",
       "                                                 cast         country  \\\n",
       "0      Brendan Gleeson, Taylor Kitsch, Gordon Pinsent          Canada   \n",
       "1    Mahesh Manjrekar, Abhay Mahajan, Sachin Khedekar           India   \n",
       "2   Tom Sizemore, Lorenzo Lamas, Robert LaSardo, R...   United States   \n",
       "3   Interviews with: Pink, Adele, Beyoncé, Britney...   United States   \n",
       "4   Harry Dean Stanton, Kieran O'Brien, George Cos...  United Kingdom   \n",
       "5   Gregory Chisholm, Juliet Stevenson, Brian Hens...  United Kingdom   \n",
       "6   Alice Cooper, Liberty DeVitto, Ray Parker Jr.,...   United States   \n",
       "7   Julianne Hough, Aaron Tveit, Vanessa Hudgens, ...   United States   \n",
       "8   Michael Paré, Leanne Khol Young, Patrick J. Ma...          Canada   \n",
       "9     Kirstie Alley, Sam Waterston, Stockard Channing   United States   \n",
       "10  Emily Wilder, Adrian Cowan, Gary Mckenzie, Jer...          Canada   \n",
       "11            Leslie Bibb, Kevin Curtis, Nadia Dajani   United States   \n",
       "12  Anders Danielsen Lie, Golshifteh Farahani, Den...          France   \n",
       "13  Rafinha Alcantara, Marc-André Ter Stegen, Serg...           Spain   \n",
       "14  Elon Musk, Per Wimmer, Julie Anderson-Ankenbra...  United Kingdom   \n",
       "15  Joey King, Jack Kilmer, Andrea Savage, Paul Sc...   United States   \n",
       "16         Marcus Anderson, Kaiwi Lyman, Andrew Asper             NaN   \n",
       "17                         Narrator - Gillian Barlett             NaN   \n",
       "18                                    Zoë Coombs Marr             NaN   \n",
       "19  Ewan McGregor, Léa Seydoux, Theo James, Mirand...             NaN   \n",
       "20                                                NaN             NaN   \n",
       "21  Alex Cazares, Ben Diskin, Cristina Vee, Erika ...             NaN   \n",
       "22                            Grace Hayes, Mary Healy             NaN   \n",
       "23  ANDREA RISEBOROUGH, HAROLD TORRES, CLAUDIA PIN...           Italy   \n",
       "24  Nicolas Cage, Judge Reinhold, Erika Anderson, ...             NaN   \n",
       "25                                                NaN             NaN   \n",
       "26  Natasha Heschélle, Curtis Morgan, Hannah Scott...             NaN   \n",
       "27                    Christina Ricci \n",
       ", David Hoflin   United States   \n",
       "28  Eli Jay, Marc Thompson, Sean Schemmel, Eileen ...             NaN   \n",
       "29                    Michael Liscio Jr., Emily Bauer             NaN   \n",
       "30               Gregory Abbey, Bella Hudson, Ed Paul             NaN   \n",
       "31                   Dobrokhotova Ekaterina, Mike New             NaN   \n",
       "32  Sally Forrest, Keefe Brasselle, Hugh O'Brian, ...             NaN   \n",
       "33                                                NaN             NaN   \n",
       "34                                                NaN             NaN   \n",
       "35  Alex Dimitriades, Alexandra Davies, Tom Long, ...             NaN   \n",
       "36            Hilary Swank, Emmy Rossum, Josh Duhamel             NaN   \n",
       "37  David Tennant, Lucy Punch, Faye Marsay, Gemma ...             NaN   \n",
       "38                                  Ann-Marie Newland             NaN   \n",
       "39                               Caroline Shola Arewa             NaN   \n",
       "40                                 Anne-Marie Newland             NaN   \n",
       "41                            Dr Daniel J Nightingale             NaN   \n",
       "42                                     Lindsey Samper             NaN   \n",
       "43                                 Anne-Marie Newland             NaN   \n",
       "44                                 Anne-Marie Newland             NaN   \n",
       "45                                 Anne-Marie Newland             NaN   \n",
       "46                                 Anne-Marie Newland             NaN   \n",
       "47                                 Anne-Marie Newland             NaN   \n",
       "48                                 Anne-Marie Newland             NaN   \n",
       "49                                 Anne-Marie Newland             NaN   \n",
       "\n",
       "        date_added  release_year rating   duration  \\\n",
       "0   March 30, 2021          2014    NaN    113 min   \n",
       "1   March 30, 2021          2018    13+    110 min   \n",
       "2   March 30, 2021          2017    NaN     74 min   \n",
       "3   March 30, 2021          2014    NaN     69 min   \n",
       "4   March 30, 2021          1989    NaN     45 min   \n",
       "5   March 30, 2021          1989    NaN     52 min   \n",
       "6   March 30, 2021          2017    NaN     98 min   \n",
       "7   March 30, 2021          2016    NaN    131 min   \n",
       "8   March 30, 2021          2017    NaN     87 min   \n",
       "9    April 1, 2021          1994    NaN     92 min   \n",
       "10   April 4, 2021          2016    NaN     88 min   \n",
       "11  April 10, 2021          2014    NaN     93 min   \n",
       "12  April 17, 2021          2018    NaN     94 min   \n",
       "13  April 24, 2021          2020    NaN     46 min   \n",
       "14     May 2, 2021          2018    NaN     74 min   \n",
       "15    June 3, 2021          2019    NaN     96 min   \n",
       "16             NaN          2016    13+     87 min   \n",
       "17             NaN          2008    ALL   1 Season   \n",
       "18             NaN          2020    18+   1 Season   \n",
       "19             NaN          2018      R    104 min   \n",
       "20             NaN          2001   TV-Y   1 Season   \n",
       "21             NaN          2020  TV-Y7   1 Season   \n",
       "22             NaN          1941     NR     62 min   \n",
       "23             NaN          2020    18+   1 Season   \n",
       "24             NaN          1991      R     94 min   \n",
       "25             NaN          2005    ALL     50 min   \n",
       "26             NaN          2020    16+   1 Season   \n",
       "27             NaN          2017    18+   1 Season   \n",
       "28             NaN          2015  TV-Y7  3 Seasons   \n",
       "29             NaN          2018  TV-Y7  3 Seasons   \n",
       "30             NaN          2011  TV-Y7  2 Seasons   \n",
       "31             NaN          2013  TV-PG   1 Season   \n",
       "32             NaN          1949    18+     86 min   \n",
       "33             NaN          2007     NR     36 min   \n",
       "34             NaN          2007     NR     37 min   \n",
       "35             NaN          2002    16+   1 Season   \n",
       "36             NaN          2015      R    103 min   \n",
       "37             NaN          2017    NaN     98 min   \n",
       "38             NaN          2016    ALL      9 min   \n",
       "39             NaN          2014    ALL     18 min   \n",
       "40             NaN          2016    ALL     14 min   \n",
       "41             NaN          2014    ALL     20 min   \n",
       "42             NaN          2018    ALL   1 Season   \n",
       "43             NaN          2014    ALL     19 min   \n",
       "44             NaN          2014    ALL     18 min   \n",
       "45             NaN          2014    ALL     20 min   \n",
       "46             NaN          2014    ALL     20 min   \n",
       "47             NaN          2016    ALL     22 min   \n",
       "48             NaN          2016    ALL     60 min   \n",
       "49             NaN          2016    ALL      6 min   \n",
       "\n",
       "                                          listed_in  \\\n",
       "0                                     Comedy, Drama   \n",
       "1                              Drama, International   \n",
       "2                           Action, Drama, Suspense   \n",
       "3                                       Documentary   \n",
       "4                                    Drama, Fantasy   \n",
       "5                                     Fantasy, Kids   \n",
       "6                     Documentary, Special Interest   \n",
       "7                                            Comedy   \n",
       "8                 Action, Science Fiction, Suspense   \n",
       "9                                             Drama   \n",
       "10                                  Adventure, Kids   \n",
       "11                                           Comedy   \n",
       "12                                 Horror, Suspense   \n",
       "13                              Documentary, Sports   \n",
       "14                                      Documentary   \n",
       "15                                    Comedy, Drama   \n",
       "16                          Horror, Science Fiction   \n",
       "17                           Kids, Special Interest   \n",
       "18                    Comedy, Talk Show and Variety   \n",
       "19                                  Science Fiction   \n",
       "20                                             Kids   \n",
       "21                            Action, Anime, Comedy   \n",
       "22  Arts, Entertainment, and Culture, Comedy, Drama   \n",
       "23                                         TV Shows   \n",
       "24                                            Drama   \n",
       "25                                      Documentary   \n",
       "26                                         TV Shows   \n",
       "27                                    Comedy, Drama   \n",
       "28                        Animation, Anime, Fantasy   \n",
       "29                     Action, Adventure, Animation   \n",
       "30                                      Anime, Kids   \n",
       "31                                         TV Shows   \n",
       "32                                            Drama   \n",
       "33                        Music Videos and Concerts   \n",
       "34                        Music Videos and Concerts   \n",
       "35                                  Drama, Suspense   \n",
       "36                                            Drama   \n",
       "37                                    Comedy, Drama   \n",
       "38                        Fitness, Special Interest   \n",
       "39         Faith and Spirituality, Special Interest   \n",
       "40                        Fitness, Special Interest   \n",
       "41                                 Special Interest   \n",
       "42                                          Fitness   \n",
       "43                        Fitness, Special Interest   \n",
       "44                        Fitness, Special Interest   \n",
       "45                        Fitness, Special Interest   \n",
       "46                                 Special Interest   \n",
       "47                        Fitness, Special Interest   \n",
       "48                        Fitness, Special Interest   \n",
       "49                        Fitness, Special Interest   \n",
       "\n",
       "                                          description  \n",
       "0   A small fishing village must procure a local d...  \n",
       "1   A Metro Family decides to fight a Cyber Crimin...  \n",
       "2   After a man discovers his wife is cheating on ...  \n",
       "3   Pink breaks the mold once again, bringing her ...  \n",
       "4   Teenage Matt Banting wants to work with a famo...  \n",
       "5   The story unfolds in a an English seaside town...  \n",
       "6   They are the \"First Call, A-list\" musicians, j...  \n",
       "7   This honest, uncompromising comedy chronicles ...  \n",
       "8   A helicopter pilot and an environmental scient...  \n",
       "9   Sally Goodson is a devoted mother to her autis...  \n",
       "10  Amanda stumbles upon a hidden village of fairi...  \n",
       "11  When a car crash leaves Frannie immobilized, s...  \n",
       "12  After waking up in an apartment the night afte...  \n",
       "13  The documentary follows the midfielder’s every...  \n",
       "14  Discover the meteoric rise of Elon Musk, the m...  \n",
       "15  Summer '03 is the hilarious story of 16-year-o...  \n",
       "16  When a strange virus quickly spreads through a...  \n",
       "17  A heart warming and inspiring series that welc...  \n",
       "18  Zoë Coombs Marr has been on hiatus. Sort of. F...  \n",
       "19  ZOE tells a tale of forbidden love between an ...  \n",
       "20  Chris and Martin Kratt bring their enthusiasm ...  \n",
       "21  Zo Zo Zombie is our undead hero who, with his ...  \n",
       "22  \"Hey, kids, let's get together and put on a sh...  \n",
       "23  ZeroZeroZero series follows the journey of a c...  \n",
       "24  Zandalee has grown bored with her poet-turned-...  \n",
       "25  The Zambezi river is the fourth-longest river ...  \n",
       "26  The story explores the history of slavery and ...  \n",
       "27  \"Z: The Beginning of Everything\" tells the sto...  \n",
       "28  It's time to feel the flow as Yu-Gi-Oh! Zexal ...  \n",
       "29  Get set to swing into action as Yu-Gi-Oh! ARC-...  \n",
       "30  With the defeat of Director Goodwin and the Da...  \n",
       "31  See what an alien abduction reveals about your...  \n",
       "32  Talented and beautiful Carol Williams (Forrest...  \n",
       "33  Young Love celebrates the release of \"Too Youn...  \n",
       "34  Young Love returns to Baeble's silver screen w...  \n",
       "35  Australian police show about two male and two ...  \n",
       "36  A drama centered on a classical pianist who ha...  \n",
       "37  In You, Me and Him we meet lesbian couple Oliv...  \n",
       "38  This session will establish how to prepare for...  \n",
       "39  Sharecare Windows presents Caroline Shola Arew...  \n",
       "40  Reduce the stress of flying by using these sim...  \n",
       "41  This session with Dr Daniel J Nightingale is h...  \n",
       "42  Lindsey teaches you how to relieve pain & tens...  \n",
       "43  Relax and reduce your stress while you lay dow...  \n",
       "44  Yoga relaxation takes the whole body into a de...  \n",
       "45  This session was designed to help you relax an...  \n",
       "46  Relax and reduce your stress while you lay dow...  \n",
       "47  We take you through Buddhist mindful philosoph...  \n",
       "48  This session helps create confidence with simp...  \n",
       "49  This breathing practice will reduce stress, ca...  "
      ]
     },
     "execution_count": 4,
     "metadata": {},
     "output_type": "execute_result"
    }
   ],
   "source": [
    "df1.iloc[0:50]"
   ]
  },
  {
   "cell_type": "code",
   "execution_count": 7,
   "id": "14d716a9",
   "metadata": {},
   "outputs": [],
   "source": [
    "df2 = pd.read_csv('..\\\\Datasets\\\\disney_plus_titles.csv')"
   ]
  },
  {
   "cell_type": "code",
   "execution_count": 8,
   "id": "00ba83e3",
   "metadata": {},
   "outputs": [],
   "source": [
    "df3= pd.read_csv('..\\\\Datasets\\\\hulu_titles.csv')"
   ]
  },
  {
   "cell_type": "code",
   "execution_count": 9,
   "id": "0003c69f",
   "metadata": {},
   "outputs": [],
   "source": [
    "df4 = pd.read_csv('..\\\\Datasets\\\\netflix_titles.csv')"
   ]
  },
  {
   "cell_type": "code",
   "execution_count": 10,
   "id": "cef2545c",
   "metadata": {},
   "outputs": [
    {
     "data": {
      "text/plain": [
       "Index(['show_id', 'type', 'title', 'director', 'cast', 'country', 'date_added',\n",
       "       'release_year', 'rating', 'duration', 'listed_in', 'description'],\n",
       "      dtype='object')"
      ]
     },
     "execution_count": 10,
     "metadata": {},
     "output_type": "execute_result"
    }
   ],
   "source": [
    "df1.columns"
   ]
  },
  {
   "cell_type": "code",
   "execution_count": 11,
   "id": "1fc00978",
   "metadata": {},
   "outputs": [
    {
     "data": {
      "text/plain": [
       "Index(['show_id', 'type', 'title', 'director', 'cast', 'country', 'date_added',\n",
       "       'release_year', 'rating', 'duration', 'listed_in', 'description'],\n",
       "      dtype='object')"
      ]
     },
     "execution_count": 11,
     "metadata": {},
     "output_type": "execute_result"
    }
   ],
   "source": [
    "df2.columns"
   ]
  },
  {
   "cell_type": "code",
   "execution_count": 12,
   "id": "ba33183e",
   "metadata": {},
   "outputs": [
    {
     "data": {
      "text/plain": [
       "Index(['show_id', 'type', 'title', 'director', 'cast', 'country', 'date_added',\n",
       "       'release_year', 'rating', 'duration', 'listed_in', 'description'],\n",
       "      dtype='object')"
      ]
     },
     "execution_count": 12,
     "metadata": {},
     "output_type": "execute_result"
    }
   ],
   "source": [
    "df3.columns"
   ]
  },
  {
   "cell_type": "code",
   "execution_count": 13,
   "id": "0e0eb43a",
   "metadata": {},
   "outputs": [
    {
     "data": {
      "text/plain": [
       "Index(['show_id', 'type', 'title', 'director', 'cast', 'country', 'date_added',\n",
       "       'release_year', 'rating', 'duration', 'listed_in', 'description'],\n",
       "      dtype='object')"
      ]
     },
     "execution_count": 13,
     "metadata": {},
     "output_type": "execute_result"
    }
   ],
   "source": [
    "df4.columns"
   ]
  },
  {
   "cell_type": "markdown",
   "id": "f3d1cc4a",
   "metadata": {},
   "source": [
    "## DataFrame 1 (Amazon Prime)"
   ]
  },
  {
   "cell_type": "markdown",
   "id": "aef41c09",
   "metadata": {},
   "source": [
    "#### Let's see if there are null values in our first dataframe"
   ]
  },
  {
   "cell_type": "code",
   "execution_count": 15,
   "id": "03056e3c",
   "metadata": {},
   "outputs": [
    {
     "data": {
      "text/plain": [
       "True"
      ]
     },
     "execution_count": 15,
     "metadata": {},
     "output_type": "execute_result"
    }
   ],
   "source": [
    "df1.isnull().any().any()"
   ]
  },
  {
   "cell_type": "code",
   "execution_count": 16,
   "id": "5c6953b6",
   "metadata": {},
   "outputs": [
    {
     "data": {
      "text/plain": [
       "Index(['show_id', 'type', 'title', 'director', 'cast', 'country', 'date_added',\n",
       "       'release_year', 'rating', 'duration', 'listed_in', 'description'],\n",
       "      dtype='object')"
      ]
     },
     "execution_count": 16,
     "metadata": {},
     "output_type": "execute_result"
    }
   ],
   "source": [
    "columnsIni= df1.columns\n",
    "columnsIni"
   ]
  },
  {
   "cell_type": "code",
   "execution_count": 17,
   "id": "0b382f6b",
   "metadata": {},
   "outputs": [
    {
     "name": "stdout",
     "output_type": "stream",
     "text": [
      "<class 'pandas.core.frame.DataFrame'>\n",
      "RangeIndex: 9668 entries, 0 to 9667\n",
      "Data columns (total 12 columns):\n",
      " #   Column        Non-Null Count  Dtype \n",
      "---  ------        --------------  ----- \n",
      " 0   show_id       9668 non-null   object\n",
      " 1   type          9668 non-null   object\n",
      " 2   title         9668 non-null   object\n",
      " 3   director      7586 non-null   object\n",
      " 4   cast          8435 non-null   object\n",
      " 5   country       672 non-null    object\n",
      " 6   date_added    155 non-null    object\n",
      " 7   release_year  9668 non-null   int64 \n",
      " 8   rating        9331 non-null   object\n",
      " 9   duration      9668 non-null   object\n",
      " 10  listed_in     9668 non-null   object\n",
      " 11  description   9668 non-null   object\n",
      "dtypes: int64(1), object(11)\n",
      "memory usage: 906.5+ KB\n"
     ]
    }
   ],
   "source": [
    "df1.info()"
   ]
  },
  {
   "cell_type": "code",
   "execution_count": 18,
   "id": "c4abf9bf",
   "metadata": {},
   "outputs": [
    {
     "data": {
      "text/plain": [
       "'Julianne Hough, Aaron Tveit, Vanessa Hudgens, Keke Palmer, Carly Rae Jepson, Mario Lopez, Carlos PenaVega, Kether Donohue, Jordan Fisher, David Del Rio, Andrew Call, Wendell Pierce, Boyz II Men, Jessie J, Ana Gasteyer, Didi Conn'"
      ]
     },
     "execution_count": 18,
     "metadata": {},
     "output_type": "execute_result"
    }
   ],
   "source": [
    "df1.iloc[7][4]"
   ]
  },
  {
   "cell_type": "markdown",
   "id": "71d680bb",
   "metadata": {},
   "source": [
    "#### Now, let's count NaN values"
   ]
  },
  {
   "cell_type": "code",
   "execution_count": 20,
   "id": "cf6e605d",
   "metadata": {},
   "outputs": [
    {
     "name": "stdout",
     "output_type": "stream",
     "text": [
      "___________________________________________________________________________\n",
      "Column show_id has 0 NaN values over 9668 records\n",
      "The Nan percentage is:  0.0\n",
      "___________________________________________________________________________\n",
      "Column type has 0 NaN values over 9668 records\n",
      "The Nan percentage is:  0.0\n",
      "___________________________________________________________________________\n",
      "Column title has 0 NaN values over 9668 records\n",
      "The Nan percentage is:  0.0\n",
      "___________________________________________________________________________\n",
      "Column director has 2082 NaN values over 9668 records\n",
      "The Nan percentage is:  21.53\n",
      "___________________________________________________________________________\n",
      "Column cast has 1233 NaN values over 9668 records\n",
      "The Nan percentage is:  12.75\n",
      "___________________________________________________________________________\n",
      "Column country has 8996 NaN values over 9668 records\n",
      "The Nan percentage is:  93.05\n",
      "___________________________________________________________________________\n",
      "Column date_added has 9513 NaN values over 9668 records\n",
      "The Nan percentage is:  98.4\n",
      "___________________________________________________________________________\n",
      "Column release_year has 0 NaN values over 9668 records\n",
      "The Nan percentage is:  0.0\n",
      "___________________________________________________________________________\n",
      "Column rating has 337 NaN values over 9668 records\n",
      "The Nan percentage is:  3.49\n",
      "___________________________________________________________________________\n",
      "Column duration has 0 NaN values over 9668 records\n",
      "The Nan percentage is:  0.0\n",
      "___________________________________________________________________________\n",
      "Column listed_in has 0 NaN values over 9668 records\n",
      "The Nan percentage is:  0.0\n",
      "___________________________________________________________________________\n",
      "Column description has 0 NaN values over 9668 records\n",
      "The Nan percentage is:  0.0\n"
     ]
    }
   ],
   "source": [
    "nanPrct = []\n",
    "for col in df1.columns:\n",
    "    nans = df1[col].isna().sum()\n",
    "    print('_'*75)\n",
    "    print (f'Column {col} has {nans} NaN values over {df1.shape[0]} records')\n",
    "    pNan = round((nans/df1.shape[0])*100,2)\n",
    "    print(f'The Nan percentage is:  {pNan}')\n",
    "    nanPrct.append((col, pNan))"
   ]
  },
  {
   "cell_type": "markdown",
   "id": "75529f3d",
   "metadata": {},
   "source": [
    "### Data Wrangling"
   ]
  },
  {
   "cell_type": "markdown",
   "id": "2c13ee63",
   "metadata": {},
   "source": [
    "#### It's time to eliminate the columns with high percentage of null values"
   ]
  },
  {
   "cell_type": "code",
   "execution_count": 21,
   "id": "7b5eeda1",
   "metadata": {},
   "outputs": [],
   "source": [
    "df1 = df1.drop(columns =['country','date_added'])"
   ]
  },
  {
   "cell_type": "markdown",
   "id": "7e6c82ae",
   "metadata": {},
   "source": [
    "##### We also should eliminate those columns we won't work with"
   ]
  },
  {
   "cell_type": "code",
   "execution_count": 23,
   "id": "b5f7bb93",
   "metadata": {},
   "outputs": [],
   "source": [
    "df1 = df1.drop(columns=['director','rating','description'])"
   ]
  },
  {
   "cell_type": "code",
   "execution_count": 24,
   "id": "75737448",
   "metadata": {},
   "outputs": [
    {
     "data": {
      "text/html": [
       "<div>\n",
       "<style scoped>\n",
       "    .dataframe tbody tr th:only-of-type {\n",
       "        vertical-align: middle;\n",
       "    }\n",
       "\n",
       "    .dataframe tbody tr th {\n",
       "        vertical-align: top;\n",
       "    }\n",
       "\n",
       "    .dataframe thead th {\n",
       "        text-align: right;\n",
       "    }\n",
       "</style>\n",
       "<table border=\"1\" class=\"dataframe\">\n",
       "  <thead>\n",
       "    <tr style=\"text-align: right;\">\n",
       "      <th></th>\n",
       "      <th>show_id</th>\n",
       "      <th>type</th>\n",
       "      <th>title</th>\n",
       "      <th>cast</th>\n",
       "      <th>release_year</th>\n",
       "      <th>duration</th>\n",
       "      <th>listed_in</th>\n",
       "    </tr>\n",
       "  </thead>\n",
       "  <tbody>\n",
       "    <tr>\n",
       "      <th>0</th>\n",
       "      <td>s1</td>\n",
       "      <td>Movie</td>\n",
       "      <td>The Grand Seduction</td>\n",
       "      <td>Brendan Gleeson, Taylor Kitsch, Gordon Pinsent</td>\n",
       "      <td>2014</td>\n",
       "      <td>113 min</td>\n",
       "      <td>Comedy, Drama</td>\n",
       "    </tr>\n",
       "    <tr>\n",
       "      <th>1</th>\n",
       "      <td>s2</td>\n",
       "      <td>Movie</td>\n",
       "      <td>Take Care Good Night</td>\n",
       "      <td>Mahesh Manjrekar, Abhay Mahajan, Sachin Khedekar</td>\n",
       "      <td>2018</td>\n",
       "      <td>110 min</td>\n",
       "      <td>Drama, International</td>\n",
       "    </tr>\n",
       "    <tr>\n",
       "      <th>2</th>\n",
       "      <td>s3</td>\n",
       "      <td>Movie</td>\n",
       "      <td>Secrets of Deception</td>\n",
       "      <td>Tom Sizemore, Lorenzo Lamas, Robert LaSardo, R...</td>\n",
       "      <td>2017</td>\n",
       "      <td>74 min</td>\n",
       "      <td>Action, Drama, Suspense</td>\n",
       "    </tr>\n",
       "    <tr>\n",
       "      <th>3</th>\n",
       "      <td>s4</td>\n",
       "      <td>Movie</td>\n",
       "      <td>Pink: Staying True</td>\n",
       "      <td>Interviews with: Pink, Adele, Beyoncé, Britney...</td>\n",
       "      <td>2014</td>\n",
       "      <td>69 min</td>\n",
       "      <td>Documentary</td>\n",
       "    </tr>\n",
       "    <tr>\n",
       "      <th>4</th>\n",
       "      <td>s5</td>\n",
       "      <td>Movie</td>\n",
       "      <td>Monster Maker</td>\n",
       "      <td>Harry Dean Stanton, Kieran O'Brien, George Cos...</td>\n",
       "      <td>1989</td>\n",
       "      <td>45 min</td>\n",
       "      <td>Drama, Fantasy</td>\n",
       "    </tr>\n",
       "    <tr>\n",
       "      <th>...</th>\n",
       "      <td>...</td>\n",
       "      <td>...</td>\n",
       "      <td>...</td>\n",
       "      <td>...</td>\n",
       "      <td>...</td>\n",
       "      <td>...</td>\n",
       "      <td>...</td>\n",
       "    </tr>\n",
       "    <tr>\n",
       "      <th>9663</th>\n",
       "      <td>s9664</td>\n",
       "      <td>Movie</td>\n",
       "      <td>Pride Of The Bowery</td>\n",
       "      <td>Leo Gorcey, Bobby Jordan</td>\n",
       "      <td>1940</td>\n",
       "      <td>60 min</td>\n",
       "      <td>Comedy</td>\n",
       "    </tr>\n",
       "    <tr>\n",
       "      <th>9664</th>\n",
       "      <td>s9665</td>\n",
       "      <td>TV Show</td>\n",
       "      <td>Planet Patrol</td>\n",
       "      <td>DICK VOSBURGH, RONNIE STEVENS, LIBBY MORRIS, M...</td>\n",
       "      <td>2018</td>\n",
       "      <td>4 Seasons</td>\n",
       "      <td>TV Shows</td>\n",
       "    </tr>\n",
       "    <tr>\n",
       "      <th>9665</th>\n",
       "      <td>s9666</td>\n",
       "      <td>Movie</td>\n",
       "      <td>Outpost</td>\n",
       "      <td>Ray Stevenson, Julian Wadham, Richard Brake, M...</td>\n",
       "      <td>2008</td>\n",
       "      <td>90 min</td>\n",
       "      <td>Action</td>\n",
       "    </tr>\n",
       "    <tr>\n",
       "      <th>9666</th>\n",
       "      <td>s9667</td>\n",
       "      <td>TV Show</td>\n",
       "      <td>Maradona: Blessed Dream</td>\n",
       "      <td>Esteban Recagno, Ezequiel Stremiz, Luciano Vit...</td>\n",
       "      <td>2021</td>\n",
       "      <td>1 Season</td>\n",
       "      <td>Drama, Sports</td>\n",
       "    </tr>\n",
       "    <tr>\n",
       "      <th>9667</th>\n",
       "      <td>s9668</td>\n",
       "      <td>Movie</td>\n",
       "      <td>Harry Brown</td>\n",
       "      <td>Michael Caine, Emily Mortimer, Joseph Gilgun, ...</td>\n",
       "      <td>2010</td>\n",
       "      <td>103 min</td>\n",
       "      <td>Action, Drama, Suspense</td>\n",
       "    </tr>\n",
       "  </tbody>\n",
       "</table>\n",
       "<p>9668 rows × 7 columns</p>\n",
       "</div>"
      ],
      "text/plain": [
       "     show_id     type                    title  \\\n",
       "0         s1    Movie      The Grand Seduction   \n",
       "1         s2    Movie     Take Care Good Night   \n",
       "2         s3    Movie     Secrets of Deception   \n",
       "3         s4    Movie       Pink: Staying True   \n",
       "4         s5    Movie            Monster Maker   \n",
       "...      ...      ...                      ...   \n",
       "9663   s9664    Movie      Pride Of The Bowery   \n",
       "9664   s9665  TV Show            Planet Patrol   \n",
       "9665   s9666    Movie                  Outpost   \n",
       "9666   s9667  TV Show  Maradona: Blessed Dream   \n",
       "9667   s9668    Movie              Harry Brown   \n",
       "\n",
       "                                                   cast  release_year  \\\n",
       "0        Brendan Gleeson, Taylor Kitsch, Gordon Pinsent          2014   \n",
       "1      Mahesh Manjrekar, Abhay Mahajan, Sachin Khedekar          2018   \n",
       "2     Tom Sizemore, Lorenzo Lamas, Robert LaSardo, R...          2017   \n",
       "3     Interviews with: Pink, Adele, Beyoncé, Britney...          2014   \n",
       "4     Harry Dean Stanton, Kieran O'Brien, George Cos...          1989   \n",
       "...                                                 ...           ...   \n",
       "9663                           Leo Gorcey, Bobby Jordan          1940   \n",
       "9664  DICK VOSBURGH, RONNIE STEVENS, LIBBY MORRIS, M...          2018   \n",
       "9665  Ray Stevenson, Julian Wadham, Richard Brake, M...          2008   \n",
       "9666  Esteban Recagno, Ezequiel Stremiz, Luciano Vit...          2021   \n",
       "9667  Michael Caine, Emily Mortimer, Joseph Gilgun, ...          2010   \n",
       "\n",
       "       duration                listed_in  \n",
       "0       113 min            Comedy, Drama  \n",
       "1       110 min     Drama, International  \n",
       "2        74 min  Action, Drama, Suspense  \n",
       "3        69 min              Documentary  \n",
       "4        45 min           Drama, Fantasy  \n",
       "...         ...                      ...  \n",
       "9663     60 min                   Comedy  \n",
       "9664  4 Seasons                 TV Shows  \n",
       "9665     90 min                   Action  \n",
       "9666   1 Season            Drama, Sports  \n",
       "9667    103 min  Action, Drama, Suspense  \n",
       "\n",
       "[9668 rows x 7 columns]"
      ]
     },
     "execution_count": 24,
     "metadata": {},
     "output_type": "execute_result"
    }
   ],
   "source": [
    "df1"
   ]
  },
  {
   "cell_type": "markdown",
   "id": "14d1c693",
   "metadata": {},
   "source": [
    "##### Now we'll eliminate the rows with nan values due they represent only 12 % of the total data "
   ]
  },
  {
   "cell_type": "code",
   "execution_count": 25,
   "id": "e307c6fe",
   "metadata": {},
   "outputs": [],
   "source": [
    "df1 = df1[df1.cast.isna()== False]"
   ]
  },
  {
   "cell_type": "markdown",
   "id": "02b90839",
   "metadata": {},
   "source": [
    "The heatmap below indicates to us if there are still null values in our DataFrame. It will show a black and yellow square if there are some null values. Otherwise, the square will have a dark magenta color."
   ]
  },
  {
   "cell_type": "code",
   "execution_count": 26,
   "id": "ea26b808",
   "metadata": {},
   "outputs": [
    {
     "data": {
      "text/plain": [
       "<AxesSubplot:>"
      ]
     },
     "execution_count": 26,
     "metadata": {},
     "output_type": "execute_result"
    },
    {
     "data": {
      "image/png": "[encoded data removed]",
      "text/plain": [
       "<Figure size 432x288 with 2 Axes>"
      ]
     },
     "metadata": {
      "needs_background": "light"
     },
     "output_type": "display_data"
    }
   ],
   "source": [
    "sns.heatmap(df1.isnull(),yticklabels=False,cmap = \"magma\")"
   ]
  },
  {
   "cell_type": "markdown",
   "id": "3f0286bc",
   "metadata": {},
   "source": [
    "##### We've found some weird data in this DataFrame. Usually, we would ask for more information about these shows and movies, but in this lab practice, we'll just drop these rows."
   ]
  },
  {
   "cell_type": "code",
   "execution_count": 27,
   "id": "cb9da760",
   "metadata": {},
   "outputs": [],
   "source": [
    "dfTemp = df1[df1['cast'].str.len() == 1]"
   ]
  },
  {
   "cell_type": "code",
   "execution_count": 29,
   "id": "8ec8eb4a",
   "metadata": {},
   "outputs": [],
   "source": [
    "df1 = df1[df1['cast'].str.len() > 1]"
   ]
  },
  {
   "cell_type": "code",
   "execution_count": 125,
   "id": "93b892f0",
   "metadata": {},
   "outputs": [],
   "source": [
    "#df1"
   ]
  },
  {
   "cell_type": "code",
   "execution_count": 31,
   "id": "2671e6d1",
   "metadata": {},
   "outputs": [
    {
     "data": {
      "text/plain": [
       "(8401, 7)"
      ]
     },
     "execution_count": 31,
     "metadata": {},
     "output_type": "execute_result"
    }
   ],
   "source": [
    "df1.shape"
   ]
  },
  {
   "cell_type": "markdown",
   "id": "cac9c604",
   "metadata": {},
   "source": [
    "##### For the next DataFrames we'll repeat the steps we did above, that is: \n",
    "\n",
    "- Check for NaN values\n",
    "- Count NaN values if any\n",
    "- Eliminate useless columns\n",
    "- Eliminate rows if they represent a low percentage of total registers"
   ]
  },
  {
   "cell_type": "markdown",
   "id": "9d431ca1",
   "metadata": {},
   "source": [
    "## DataFrame 2 (Disney)"
   ]
  },
  {
   "cell_type": "markdown",
   "id": "cbbc0334",
   "metadata": {},
   "source": [
    "#### Check for nan values"
   ]
  },
  {
   "cell_type": "code",
   "execution_count": 32,
   "id": "751f3b2d",
   "metadata": {},
   "outputs": [
    {
     "data": {
      "text/plain": [
       "True"
      ]
     },
     "execution_count": 32,
     "metadata": {},
     "output_type": "execute_result"
    }
   ],
   "source": [
    "df2.isnull().any().any()"
   ]
  },
  {
   "cell_type": "code",
   "execution_count": 33,
   "id": "fd4a0ac4",
   "metadata": {},
   "outputs": [
    {
     "data": {
      "text/plain": [
       "Index(['show_id', 'type', 'title', 'director', 'cast', 'country', 'date_added',\n",
       "       'release_year', 'rating', 'duration', 'listed_in', 'description'],\n",
       "      dtype='object')"
      ]
     },
     "execution_count": 33,
     "metadata": {},
     "output_type": "execute_result"
    }
   ],
   "source": [
    "df2.columns"
   ]
  },
  {
   "cell_type": "code",
   "execution_count": 34,
   "id": "588e55d1",
   "metadata": {},
   "outputs": [
    {
     "name": "stdout",
     "output_type": "stream",
     "text": [
      "<class 'pandas.core.frame.DataFrame'>\n",
      "RangeIndex: 1450 entries, 0 to 1449\n",
      "Data columns (total 12 columns):\n",
      " #   Column        Non-Null Count  Dtype \n",
      "---  ------        --------------  ----- \n",
      " 0   show_id       1450 non-null   object\n",
      " 1   type          1450 non-null   object\n",
      " 2   title         1450 non-null   object\n",
      " 3   director      977 non-null    object\n",
      " 4   cast          1260 non-null   object\n",
      " 5   country       1231 non-null   object\n",
      " 6   date_added    1447 non-null   object\n",
      " 7   release_year  1450 non-null   int64 \n",
      " 8   rating        1447 non-null   object\n",
      " 9   duration      1450 non-null   object\n",
      " 10  listed_in     1450 non-null   object\n",
      " 11  description   1450 non-null   object\n",
      "dtypes: int64(1), object(11)\n",
      "memory usage: 136.1+ KB\n"
     ]
    }
   ],
   "source": [
    "df2.info()"
   ]
  },
  {
   "cell_type": "markdown",
   "id": "903b35db",
   "metadata": {},
   "source": [
    "##### Now, let's count NaN values"
   ]
  },
  {
   "cell_type": "code",
   "execution_count": 36,
   "id": "9c2adfbe",
   "metadata": {},
   "outputs": [
    {
     "name": "stdout",
     "output_type": "stream",
     "text": [
      "___________________________________________________________________________\n",
      "Column show_id has 0 NaN values over 1450 records\n",
      "The Nan percentage is:  0.0\n",
      "___________________________________________________________________________\n",
      "Column type has 0 NaN values over 1450 records\n",
      "The Nan percentage is:  0.0\n",
      "___________________________________________________________________________\n",
      "Column title has 0 NaN values over 1450 records\n",
      "The Nan percentage is:  0.0\n",
      "___________________________________________________________________________\n",
      "Column director has 473 NaN values over 1450 records\n",
      "The Nan percentage is:  32.62\n",
      "___________________________________________________________________________\n",
      "Column cast has 190 NaN values over 1450 records\n",
      "The Nan percentage is:  13.1\n",
      "___________________________________________________________________________\n",
      "Column country has 219 NaN values over 1450 records\n",
      "The Nan percentage is:  15.1\n",
      "___________________________________________________________________________\n",
      "Column date_added has 3 NaN values over 1450 records\n",
      "The Nan percentage is:  0.21\n",
      "___________________________________________________________________________\n",
      "Column release_year has 0 NaN values over 1450 records\n",
      "The Nan percentage is:  0.0\n",
      "___________________________________________________________________________\n",
      "Column rating has 3 NaN values over 1450 records\n",
      "The Nan percentage is:  0.21\n",
      "___________________________________________________________________________\n",
      "Column duration has 0 NaN values over 1450 records\n",
      "The Nan percentage is:  0.0\n",
      "___________________________________________________________________________\n",
      "Column listed_in has 0 NaN values over 1450 records\n",
      "The Nan percentage is:  0.0\n",
      "___________________________________________________________________________\n",
      "Column description has 0 NaN values over 1450 records\n",
      "The Nan percentage is:  0.0\n"
     ]
    }
   ],
   "source": [
    "nanPrct = []\n",
    "for col in df2.columns:\n",
    "    nans = df2[col].isna().sum()\n",
    "    print('_'*75)\n",
    "    print (f'Column {col} has {nans} NaN values over {df2.shape[0]} records')\n",
    "    pNan = round((nans/df2.shape[0])*100,2)\n",
    "    print(f'The Nan percentage is:  {pNan}')\n",
    "    nanPrct.append((col, pNan))"
   ]
  },
  {
   "cell_type": "markdown",
   "id": "7df873f4",
   "metadata": {},
   "source": [
    "#### Eliminate columns we aren't working with"
   ]
  },
  {
   "cell_type": "code",
   "execution_count": 37,
   "id": "169d5ca2",
   "metadata": {},
   "outputs": [],
   "source": [
    "df2 = df2.drop(columns=['director','country','date_added','rating','description'])"
   ]
  },
  {
   "cell_type": "code",
   "execution_count": 38,
   "id": "1db08a4b",
   "metadata": {},
   "outputs": [
    {
     "data": {
      "text/html": [
       "<div>\n",
       "<style scoped>\n",
       "    .dataframe tbody tr th:only-of-type {\n",
       "        vertical-align: middle;\n",
       "    }\n",
       "\n",
       "    .dataframe tbody tr th {\n",
       "        vertical-align: top;\n",
       "    }\n",
       "\n",
       "    .dataframe thead th {\n",
       "        text-align: right;\n",
       "    }\n",
       "</style>\n",
       "<table border=\"1\" class=\"dataframe\">\n",
       "  <thead>\n",
       "    <tr style=\"text-align: right;\">\n",
       "      <th></th>\n",
       "      <th>show_id</th>\n",
       "      <th>type</th>\n",
       "      <th>title</th>\n",
       "      <th>cast</th>\n",
       "      <th>release_year</th>\n",
       "      <th>duration</th>\n",
       "      <th>listed_in</th>\n",
       "    </tr>\n",
       "  </thead>\n",
       "  <tbody>\n",
       "    <tr>\n",
       "      <th>0</th>\n",
       "      <td>s1</td>\n",
       "      <td>Movie</td>\n",
       "      <td>Duck the Halls: A Mickey Mouse Christmas Special</td>\n",
       "      <td>Chris Diamantopoulos, Tony Anselmo, Tress MacN...</td>\n",
       "      <td>2016</td>\n",
       "      <td>23 min</td>\n",
       "      <td>Animation, Family</td>\n",
       "    </tr>\n",
       "    <tr>\n",
       "      <th>1</th>\n",
       "      <td>s2</td>\n",
       "      <td>Movie</td>\n",
       "      <td>Ernest Saves Christmas</td>\n",
       "      <td>Jim Varney, Noelle Parker, Douglas Seale</td>\n",
       "      <td>1988</td>\n",
       "      <td>91 min</td>\n",
       "      <td>Comedy</td>\n",
       "    </tr>\n",
       "    <tr>\n",
       "      <th>2</th>\n",
       "      <td>s3</td>\n",
       "      <td>Movie</td>\n",
       "      <td>Ice Age: A Mammoth Christmas</td>\n",
       "      <td>Raymond Albert Romano, John Leguizamo, Denis L...</td>\n",
       "      <td>2011</td>\n",
       "      <td>23 min</td>\n",
       "      <td>Animation, Comedy, Family</td>\n",
       "    </tr>\n",
       "    <tr>\n",
       "      <th>3</th>\n",
       "      <td>s4</td>\n",
       "      <td>Movie</td>\n",
       "      <td>The Queen Family Singalong</td>\n",
       "      <td>Darren Criss, Adam Lambert, Derek Hough, Alexa...</td>\n",
       "      <td>2021</td>\n",
       "      <td>41 min</td>\n",
       "      <td>Musical</td>\n",
       "    </tr>\n",
       "    <tr>\n",
       "      <th>4</th>\n",
       "      <td>s5</td>\n",
       "      <td>TV Show</td>\n",
       "      <td>The Beatles: Get Back</td>\n",
       "      <td>John Lennon, Paul McCartney, George Harrison, ...</td>\n",
       "      <td>2021</td>\n",
       "      <td>1 Season</td>\n",
       "      <td>Docuseries, Historical, Music</td>\n",
       "    </tr>\n",
       "  </tbody>\n",
       "</table>\n",
       "</div>"
      ],
      "text/plain": [
       "  show_id     type                                             title  \\\n",
       "0      s1    Movie  Duck the Halls: A Mickey Mouse Christmas Special   \n",
       "1      s2    Movie                            Ernest Saves Christmas   \n",
       "2      s3    Movie                      Ice Age: A Mammoth Christmas   \n",
       "3      s4    Movie                        The Queen Family Singalong   \n",
       "4      s5  TV Show                             The Beatles: Get Back   \n",
       "\n",
       "                                                cast  release_year  duration  \\\n",
       "0  Chris Diamantopoulos, Tony Anselmo, Tress MacN...          2016    23 min   \n",
       "1           Jim Varney, Noelle Parker, Douglas Seale          1988    91 min   \n",
       "2  Raymond Albert Romano, John Leguizamo, Denis L...          2011    23 min   \n",
       "3  Darren Criss, Adam Lambert, Derek Hough, Alexa...          2021    41 min   \n",
       "4  John Lennon, Paul McCartney, George Harrison, ...          2021  1 Season   \n",
       "\n",
       "                       listed_in  \n",
       "0              Animation, Family  \n",
       "1                         Comedy  \n",
       "2      Animation, Comedy, Family  \n",
       "3                        Musical  \n",
       "4  Docuseries, Historical, Music  "
      ]
     },
     "execution_count": 38,
     "metadata": {},
     "output_type": "execute_result"
    }
   ],
   "source": [
    "df2.head()"
   ]
  },
  {
   "cell_type": "code",
   "execution_count": 39,
   "id": "cc7435af",
   "metadata": {},
   "outputs": [
    {
     "data": {
      "text/plain": [
       "(1450, 7)"
      ]
     },
     "execution_count": 39,
     "metadata": {},
     "output_type": "execute_result"
    }
   ],
   "source": [
    "df2.shape"
   ]
  },
  {
   "cell_type": "markdown",
   "id": "933d4323",
   "metadata": {},
   "source": [
    "#### Now we'll eliminate the rows with nan values due they represent 13 % of the total data "
   ]
  },
  {
   "cell_type": "code",
   "execution_count": 40,
   "id": "6c3de3fc",
   "metadata": {},
   "outputs": [],
   "source": [
    "df2 = df2[df2.cast.isna()== False]\n"
   ]
  },
  {
   "cell_type": "code",
   "execution_count": 41,
   "id": "a30e8a28",
   "metadata": {},
   "outputs": [
    {
     "data": {
      "text/plain": [
       "<AxesSubplot:>"
      ]
     },
     "execution_count": 41,
     "metadata": {},
     "output_type": "execute_result"
    },
    {
     "data": {
      "image/png": "[encoded data removed]",
      "text/plain": [
       "<Figure size 432x288 with 2 Axes>"
      ]
     },
     "metadata": {
      "needs_background": "light"
     },
     "output_type": "display_data"
    }
   ],
   "source": [
    "sns.heatmap(df2.isnull(),yticklabels=False,cmap = \"magma\")"
   ]
  },
  {
   "cell_type": "code",
   "execution_count": 42,
   "id": "74c738b3",
   "metadata": {},
   "outputs": [
    {
     "data": {
      "text/plain": [
       "False"
      ]
     },
     "execution_count": 42,
     "metadata": {},
     "output_type": "execute_result"
    }
   ],
   "source": [
    "df2.isnull().any().any()"
   ]
  },
  {
   "cell_type": "markdown",
   "id": "7ac81bd0",
   "metadata": {},
   "source": [
    "## DataFrame 3  (Hulu)"
   ]
  },
  {
   "cell_type": "markdown",
   "id": "d30c7a29",
   "metadata": {},
   "source": [
    "#### Check for Nan values"
   ]
  },
  {
   "cell_type": "code",
   "execution_count": 43,
   "id": "97db9c1c",
   "metadata": {},
   "outputs": [
    {
     "data": {
      "text/plain": [
       "True"
      ]
     },
     "execution_count": 43,
     "metadata": {},
     "output_type": "execute_result"
    }
   ],
   "source": [
    "df3.isnull().any().any()"
   ]
  },
  {
   "cell_type": "code",
   "execution_count": 44,
   "id": "57087823",
   "metadata": {},
   "outputs": [
    {
     "data": {
      "text/plain": [
       "(3073, 12)"
      ]
     },
     "execution_count": 44,
     "metadata": {},
     "output_type": "execute_result"
    }
   ],
   "source": [
    "df3.shape"
   ]
  },
  {
   "cell_type": "code",
   "execution_count": 45,
   "id": "5c944bda",
   "metadata": {},
   "outputs": [
    {
     "name": "stdout",
     "output_type": "stream",
     "text": [
      "<class 'pandas.core.frame.DataFrame'>\n",
      "RangeIndex: 3073 entries, 0 to 3072\n",
      "Data columns (total 12 columns):\n",
      " #   Column        Non-Null Count  Dtype  \n",
      "---  ------        --------------  -----  \n",
      " 0   show_id       3073 non-null   object \n",
      " 1   type          3073 non-null   object \n",
      " 2   title         3073 non-null   object \n",
      " 3   director      3 non-null      object \n",
      " 4   cast          0 non-null      float64\n",
      " 5   country       1620 non-null   object \n",
      " 6   date_added    3045 non-null   object \n",
      " 7   release_year  3073 non-null   int64  \n",
      " 8   rating        2553 non-null   object \n",
      " 9   duration      2594 non-null   object \n",
      " 10  listed_in     3073 non-null   object \n",
      " 11  description   3069 non-null   object \n",
      "dtypes: float64(1), int64(1), object(10)\n",
      "memory usage: 288.2+ KB\n"
     ]
    }
   ],
   "source": [
    "df3.info()"
   ]
  },
  {
   "cell_type": "markdown",
   "id": "2109ecc1",
   "metadata": {},
   "source": [
    "Count NaN values in every column "
   ]
  },
  {
   "cell_type": "code",
   "execution_count": 46,
   "id": "378da9bf",
   "metadata": {},
   "outputs": [
    {
     "name": "stdout",
     "output_type": "stream",
     "text": [
      "___________________________________________________________________________\n",
      "Column show_id has 0 NaN values over 3073 records\n",
      "The Nan percentage is:  0.0\n",
      "___________________________________________________________________________\n",
      "Column type has 0 NaN values over 3073 records\n",
      "The Nan percentage is:  0.0\n",
      "___________________________________________________________________________\n",
      "Column title has 0 NaN values over 3073 records\n",
      "The Nan percentage is:  0.0\n",
      "___________________________________________________________________________\n",
      "Column director has 3070 NaN values over 3073 records\n",
      "The Nan percentage is:  99.9\n",
      "___________________________________________________________________________\n",
      "Column cast has 3073 NaN values over 3073 records\n",
      "The Nan percentage is:  100.0\n",
      "___________________________________________________________________________\n",
      "Column country has 1453 NaN values over 3073 records\n",
      "The Nan percentage is:  47.28\n",
      "___________________________________________________________________________\n",
      "Column date_added has 28 NaN values over 3073 records\n",
      "The Nan percentage is:  0.91\n",
      "___________________________________________________________________________\n",
      "Column release_year has 0 NaN values over 3073 records\n",
      "The Nan percentage is:  0.0\n",
      "___________________________________________________________________________\n",
      "Column rating has 520 NaN values over 3073 records\n",
      "The Nan percentage is:  16.92\n",
      "___________________________________________________________________________\n",
      "Column duration has 479 NaN values over 3073 records\n",
      "The Nan percentage is:  15.59\n",
      "___________________________________________________________________________\n",
      "Column listed_in has 0 NaN values over 3073 records\n",
      "The Nan percentage is:  0.0\n",
      "___________________________________________________________________________\n",
      "Column description has 4 NaN values over 3073 records\n",
      "The Nan percentage is:  0.13\n"
     ]
    }
   ],
   "source": [
    "nanPrct = []\n",
    "for col in df3.columns:\n",
    "    nans = df3[col].isna().sum()\n",
    "    print('_'*75)\n",
    "    print (f'Column {col} has {nans} NaN values over {df3.shape[0]} records')\n",
    "    pNan = round((nans/df3.shape[0])*100,2)\n",
    "    print(f'The Nan percentage is:  {pNan}')\n",
    "    nanPrct.append((col, pNan))"
   ]
  },
  {
   "cell_type": "code",
   "execution_count": 47,
   "id": "3524cac9",
   "metadata": {},
   "outputs": [
    {
     "data": {
      "text/html": [
       "<div>\n",
       "<style scoped>\n",
       "    .dataframe tbody tr th:only-of-type {\n",
       "        vertical-align: middle;\n",
       "    }\n",
       "\n",
       "    .dataframe tbody tr th {\n",
       "        vertical-align: top;\n",
       "    }\n",
       "\n",
       "    .dataframe thead th {\n",
       "        text-align: right;\n",
       "    }\n",
       "</style>\n",
       "<table border=\"1\" class=\"dataframe\">\n",
       "  <thead>\n",
       "    <tr style=\"text-align: right;\">\n",
       "      <th></th>\n",
       "      <th>show_id</th>\n",
       "      <th>type</th>\n",
       "      <th>title</th>\n",
       "      <th>director</th>\n",
       "      <th>cast</th>\n",
       "      <th>country</th>\n",
       "      <th>date_added</th>\n",
       "      <th>release_year</th>\n",
       "      <th>rating</th>\n",
       "      <th>duration</th>\n",
       "      <th>listed_in</th>\n",
       "      <th>description</th>\n",
       "    </tr>\n",
       "  </thead>\n",
       "  <tbody>\n",
       "    <tr>\n",
       "      <th>0</th>\n",
       "      <td>s1</td>\n",
       "      <td>Movie</td>\n",
       "      <td>Ricky Velez: Here's Everything</td>\n",
       "      <td>NaN</td>\n",
       "      <td>NaN</td>\n",
       "      <td>NaN</td>\n",
       "      <td>October 24, 2021</td>\n",
       "      <td>2021</td>\n",
       "      <td>TV-MA</td>\n",
       "      <td>NaN</td>\n",
       "      <td>Comedy, Stand Up</td>\n",
       "      <td>​Comedian Ricky Velez bares it all with his ho...</td>\n",
       "    </tr>\n",
       "    <tr>\n",
       "      <th>1</th>\n",
       "      <td>s2</td>\n",
       "      <td>Movie</td>\n",
       "      <td>Silent Night</td>\n",
       "      <td>NaN</td>\n",
       "      <td>NaN</td>\n",
       "      <td>NaN</td>\n",
       "      <td>October 23, 2021</td>\n",
       "      <td>2020</td>\n",
       "      <td>NaN</td>\n",
       "      <td>94 min</td>\n",
       "      <td>Crime, Drama, Thriller</td>\n",
       "      <td>Mark, a low end South London hitman recently r...</td>\n",
       "    </tr>\n",
       "    <tr>\n",
       "      <th>2</th>\n",
       "      <td>s3</td>\n",
       "      <td>Movie</td>\n",
       "      <td>The Marksman</td>\n",
       "      <td>NaN</td>\n",
       "      <td>NaN</td>\n",
       "      <td>NaN</td>\n",
       "      <td>October 23, 2021</td>\n",
       "      <td>2021</td>\n",
       "      <td>PG-13</td>\n",
       "      <td>108 min</td>\n",
       "      <td>Action, Thriller</td>\n",
       "      <td>A hardened Arizona rancher tries to protect an...</td>\n",
       "    </tr>\n",
       "    <tr>\n",
       "      <th>3</th>\n",
       "      <td>s4</td>\n",
       "      <td>Movie</td>\n",
       "      <td>Gaia</td>\n",
       "      <td>NaN</td>\n",
       "      <td>NaN</td>\n",
       "      <td>NaN</td>\n",
       "      <td>October 22, 2021</td>\n",
       "      <td>2021</td>\n",
       "      <td>R</td>\n",
       "      <td>97 min</td>\n",
       "      <td>Horror</td>\n",
       "      <td>A forest ranger and two survivalists with a cu...</td>\n",
       "    </tr>\n",
       "    <tr>\n",
       "      <th>4</th>\n",
       "      <td>s5</td>\n",
       "      <td>Movie</td>\n",
       "      <td>Settlers</td>\n",
       "      <td>NaN</td>\n",
       "      <td>NaN</td>\n",
       "      <td>NaN</td>\n",
       "      <td>October 22, 2021</td>\n",
       "      <td>2021</td>\n",
       "      <td>NaN</td>\n",
       "      <td>104 min</td>\n",
       "      <td>Science Fiction, Thriller</td>\n",
       "      <td>Mankind's earliest settlers on the Martian fro...</td>\n",
       "    </tr>\n",
       "    <tr>\n",
       "      <th>...</th>\n",
       "      <td>...</td>\n",
       "      <td>...</td>\n",
       "      <td>...</td>\n",
       "      <td>...</td>\n",
       "      <td>...</td>\n",
       "      <td>...</td>\n",
       "      <td>...</td>\n",
       "      <td>...</td>\n",
       "      <td>...</td>\n",
       "      <td>...</td>\n",
       "      <td>...</td>\n",
       "      <td>...</td>\n",
       "    </tr>\n",
       "    <tr>\n",
       "      <th>3068</th>\n",
       "      <td>s3069</td>\n",
       "      <td>TV Show</td>\n",
       "      <td>Star Trek: The Original Series</td>\n",
       "      <td>NaN</td>\n",
       "      <td>NaN</td>\n",
       "      <td>United States</td>\n",
       "      <td>NaN</td>\n",
       "      <td>1966</td>\n",
       "      <td>TV-PG</td>\n",
       "      <td>3 Seasons</td>\n",
       "      <td>Action, Adventure, Classics</td>\n",
       "      <td>The 23rd century adventures of Captain James T...</td>\n",
       "    </tr>\n",
       "    <tr>\n",
       "      <th>3069</th>\n",
       "      <td>s3070</td>\n",
       "      <td>TV Show</td>\n",
       "      <td>Star Trek: Voyager</td>\n",
       "      <td>NaN</td>\n",
       "      <td>NaN</td>\n",
       "      <td>United States</td>\n",
       "      <td>NaN</td>\n",
       "      <td>1997</td>\n",
       "      <td>TV-PG</td>\n",
       "      <td>7 Seasons</td>\n",
       "      <td>Action, Adventure, Science Fiction</td>\n",
       "      <td>Catapulted into the distant sector of the gala...</td>\n",
       "    </tr>\n",
       "    <tr>\n",
       "      <th>3070</th>\n",
       "      <td>s3071</td>\n",
       "      <td>TV Show</td>\n",
       "      <td>The Fades</td>\n",
       "      <td>NaN</td>\n",
       "      <td>NaN</td>\n",
       "      <td>United Kingdom</td>\n",
       "      <td>NaN</td>\n",
       "      <td>2011</td>\n",
       "      <td>TV-14</td>\n",
       "      <td>1 Season</td>\n",
       "      <td>Horror, International, Science Fiction</td>\n",
       "      <td>Seventeen-year-old Paul is haunted by apocalyp...</td>\n",
       "    </tr>\n",
       "    <tr>\n",
       "      <th>3071</th>\n",
       "      <td>s3072</td>\n",
       "      <td>TV Show</td>\n",
       "      <td>The Twilight Zone</td>\n",
       "      <td>NaN</td>\n",
       "      <td>NaN</td>\n",
       "      <td>United States</td>\n",
       "      <td>NaN</td>\n",
       "      <td>1959</td>\n",
       "      <td>TV-PG</td>\n",
       "      <td>5 Seasons</td>\n",
       "      <td>Classics, Science Fiction, Thriller</td>\n",
       "      <td>Rod Serling's seminal anthology series focused...</td>\n",
       "    </tr>\n",
       "    <tr>\n",
       "      <th>3072</th>\n",
       "      <td>s3073</td>\n",
       "      <td>TV Show</td>\n",
       "      <td>Tokyo Magnitude 8.0</td>\n",
       "      <td>NaN</td>\n",
       "      <td>NaN</td>\n",
       "      <td>Japan</td>\n",
       "      <td>NaN</td>\n",
       "      <td>2009</td>\n",
       "      <td>TV-14</td>\n",
       "      <td>1 Season</td>\n",
       "      <td>Anime, Drama, International</td>\n",
       "      <td>The devastation is unleashed in the span of se...</td>\n",
       "    </tr>\n",
       "  </tbody>\n",
       "</table>\n",
       "<p>3073 rows × 12 columns</p>\n",
       "</div>"
      ],
      "text/plain": [
       "     show_id     type                           title director  cast  \\\n",
       "0         s1    Movie  Ricky Velez: Here's Everything      NaN   NaN   \n",
       "1         s2    Movie                    Silent Night      NaN   NaN   \n",
       "2         s3    Movie                    The Marksman      NaN   NaN   \n",
       "3         s4    Movie                            Gaia      NaN   NaN   \n",
       "4         s5    Movie                        Settlers      NaN   NaN   \n",
       "...      ...      ...                             ...      ...   ...   \n",
       "3068   s3069  TV Show  Star Trek: The Original Series      NaN   NaN   \n",
       "3069   s3070  TV Show              Star Trek: Voyager      NaN   NaN   \n",
       "3070   s3071  TV Show                       The Fades      NaN   NaN   \n",
       "3071   s3072  TV Show               The Twilight Zone      NaN   NaN   \n",
       "3072   s3073  TV Show             Tokyo Magnitude 8.0      NaN   NaN   \n",
       "\n",
       "             country        date_added  release_year rating   duration  \\\n",
       "0                NaN  October 24, 2021          2021  TV-MA        NaN   \n",
       "1                NaN  October 23, 2021          2020    NaN     94 min   \n",
       "2                NaN  October 23, 2021          2021  PG-13    108 min   \n",
       "3                NaN  October 22, 2021          2021      R     97 min   \n",
       "4                NaN  October 22, 2021          2021    NaN    104 min   \n",
       "...              ...               ...           ...    ...        ...   \n",
       "3068   United States               NaN          1966  TV-PG  3 Seasons   \n",
       "3069   United States               NaN          1997  TV-PG  7 Seasons   \n",
       "3070  United Kingdom               NaN          2011  TV-14   1 Season   \n",
       "3071   United States               NaN          1959  TV-PG  5 Seasons   \n",
       "3072           Japan               NaN          2009  TV-14   1 Season   \n",
       "\n",
       "                                   listed_in  \\\n",
       "0                           Comedy, Stand Up   \n",
       "1                     Crime, Drama, Thriller   \n",
       "2                           Action, Thriller   \n",
       "3                                     Horror   \n",
       "4                  Science Fiction, Thriller   \n",
       "...                                      ...   \n",
       "3068             Action, Adventure, Classics   \n",
       "3069      Action, Adventure, Science Fiction   \n",
       "3070  Horror, International, Science Fiction   \n",
       "3071     Classics, Science Fiction, Thriller   \n",
       "3072             Anime, Drama, International   \n",
       "\n",
       "                                            description  \n",
       "0     ​Comedian Ricky Velez bares it all with his ho...  \n",
       "1     Mark, a low end South London hitman recently r...  \n",
       "2     A hardened Arizona rancher tries to protect an...  \n",
       "3     A forest ranger and two survivalists with a cu...  \n",
       "4     Mankind's earliest settlers on the Martian fro...  \n",
       "...                                                 ...  \n",
       "3068  The 23rd century adventures of Captain James T...  \n",
       "3069  Catapulted into the distant sector of the gala...  \n",
       "3070  Seventeen-year-old Paul is haunted by apocalyp...  \n",
       "3071  Rod Serling's seminal anthology series focused...  \n",
       "3072  The devastation is unleashed in the span of se...  \n",
       "\n",
       "[3073 rows x 12 columns]"
      ]
     },
     "execution_count": 47,
     "metadata": {},
     "output_type": "execute_result"
    }
   ],
   "source": [
    "df3"
   ]
  },
  {
   "cell_type": "markdown",
   "id": "383db2bf",
   "metadata": {},
   "source": [
    "#### We want all the dataFrames to have the same features, so we'll eliminate the same columns we eliminated formerly, and keep the same features we kept before, even if there are tons of NaN values in those features."
   ]
  },
  {
   "cell_type": "code",
   "execution_count": 48,
   "id": "acd5d861",
   "metadata": {},
   "outputs": [],
   "source": [
    "df3 = df3.drop(columns=['director','country','date_added','rating','description'])"
   ]
  },
  {
   "cell_type": "code",
   "execution_count": 49,
   "id": "bac3fc39",
   "metadata": {},
   "outputs": [
    {
     "data": {
      "text/html": [
       "<div>\n",
       "<style scoped>\n",
       "    .dataframe tbody tr th:only-of-type {\n",
       "        vertical-align: middle;\n",
       "    }\n",
       "\n",
       "    .dataframe tbody tr th {\n",
       "        vertical-align: top;\n",
       "    }\n",
       "\n",
       "    .dataframe thead th {\n",
       "        text-align: right;\n",
       "    }\n",
       "</style>\n",
       "<table border=\"1\" class=\"dataframe\">\n",
       "  <thead>\n",
       "    <tr style=\"text-align: right;\">\n",
       "      <th></th>\n",
       "      <th>show_id</th>\n",
       "      <th>type</th>\n",
       "      <th>title</th>\n",
       "      <th>cast</th>\n",
       "      <th>release_year</th>\n",
       "      <th>duration</th>\n",
       "      <th>listed_in</th>\n",
       "    </tr>\n",
       "  </thead>\n",
       "  <tbody>\n",
       "    <tr>\n",
       "      <th>0</th>\n",
       "      <td>s1</td>\n",
       "      <td>Movie</td>\n",
       "      <td>Ricky Velez: Here's Everything</td>\n",
       "      <td>NaN</td>\n",
       "      <td>2021</td>\n",
       "      <td>NaN</td>\n",
       "      <td>Comedy, Stand Up</td>\n",
       "    </tr>\n",
       "    <tr>\n",
       "      <th>1</th>\n",
       "      <td>s2</td>\n",
       "      <td>Movie</td>\n",
       "      <td>Silent Night</td>\n",
       "      <td>NaN</td>\n",
       "      <td>2020</td>\n",
       "      <td>94 min</td>\n",
       "      <td>Crime, Drama, Thriller</td>\n",
       "    </tr>\n",
       "    <tr>\n",
       "      <th>2</th>\n",
       "      <td>s3</td>\n",
       "      <td>Movie</td>\n",
       "      <td>The Marksman</td>\n",
       "      <td>NaN</td>\n",
       "      <td>2021</td>\n",
       "      <td>108 min</td>\n",
       "      <td>Action, Thriller</td>\n",
       "    </tr>\n",
       "    <tr>\n",
       "      <th>3</th>\n",
       "      <td>s4</td>\n",
       "      <td>Movie</td>\n",
       "      <td>Gaia</td>\n",
       "      <td>NaN</td>\n",
       "      <td>2021</td>\n",
       "      <td>97 min</td>\n",
       "      <td>Horror</td>\n",
       "    </tr>\n",
       "    <tr>\n",
       "      <th>4</th>\n",
       "      <td>s5</td>\n",
       "      <td>Movie</td>\n",
       "      <td>Settlers</td>\n",
       "      <td>NaN</td>\n",
       "      <td>2021</td>\n",
       "      <td>104 min</td>\n",
       "      <td>Science Fiction, Thriller</td>\n",
       "    </tr>\n",
       "    <tr>\n",
       "      <th>...</th>\n",
       "      <td>...</td>\n",
       "      <td>...</td>\n",
       "      <td>...</td>\n",
       "      <td>...</td>\n",
       "      <td>...</td>\n",
       "      <td>...</td>\n",
       "      <td>...</td>\n",
       "    </tr>\n",
       "    <tr>\n",
       "      <th>3068</th>\n",
       "      <td>s3069</td>\n",
       "      <td>TV Show</td>\n",
       "      <td>Star Trek: The Original Series</td>\n",
       "      <td>NaN</td>\n",
       "      <td>1966</td>\n",
       "      <td>3 Seasons</td>\n",
       "      <td>Action, Adventure, Classics</td>\n",
       "    </tr>\n",
       "    <tr>\n",
       "      <th>3069</th>\n",
       "      <td>s3070</td>\n",
       "      <td>TV Show</td>\n",
       "      <td>Star Trek: Voyager</td>\n",
       "      <td>NaN</td>\n",
       "      <td>1997</td>\n",
       "      <td>7 Seasons</td>\n",
       "      <td>Action, Adventure, Science Fiction</td>\n",
       "    </tr>\n",
       "    <tr>\n",
       "      <th>3070</th>\n",
       "      <td>s3071</td>\n",
       "      <td>TV Show</td>\n",
       "      <td>The Fades</td>\n",
       "      <td>NaN</td>\n",
       "      <td>2011</td>\n",
       "      <td>1 Season</td>\n",
       "      <td>Horror, International, Science Fiction</td>\n",
       "    </tr>\n",
       "    <tr>\n",
       "      <th>3071</th>\n",
       "      <td>s3072</td>\n",
       "      <td>TV Show</td>\n",
       "      <td>The Twilight Zone</td>\n",
       "      <td>NaN</td>\n",
       "      <td>1959</td>\n",
       "      <td>5 Seasons</td>\n",
       "      <td>Classics, Science Fiction, Thriller</td>\n",
       "    </tr>\n",
       "    <tr>\n",
       "      <th>3072</th>\n",
       "      <td>s3073</td>\n",
       "      <td>TV Show</td>\n",
       "      <td>Tokyo Magnitude 8.0</td>\n",
       "      <td>NaN</td>\n",
       "      <td>2009</td>\n",
       "      <td>1 Season</td>\n",
       "      <td>Anime, Drama, International</td>\n",
       "    </tr>\n",
       "  </tbody>\n",
       "</table>\n",
       "<p>3073 rows × 7 columns</p>\n",
       "</div>"
      ],
      "text/plain": [
       "     show_id     type                           title  cast  release_year  \\\n",
       "0         s1    Movie  Ricky Velez: Here's Everything   NaN          2021   \n",
       "1         s2    Movie                    Silent Night   NaN          2020   \n",
       "2         s3    Movie                    The Marksman   NaN          2021   \n",
       "3         s4    Movie                            Gaia   NaN          2021   \n",
       "4         s5    Movie                        Settlers   NaN          2021   \n",
       "...      ...      ...                             ...   ...           ...   \n",
       "3068   s3069  TV Show  Star Trek: The Original Series   NaN          1966   \n",
       "3069   s3070  TV Show              Star Trek: Voyager   NaN          1997   \n",
       "3070   s3071  TV Show                       The Fades   NaN          2011   \n",
       "3071   s3072  TV Show               The Twilight Zone   NaN          1959   \n",
       "3072   s3073  TV Show             Tokyo Magnitude 8.0   NaN          2009   \n",
       "\n",
       "       duration                               listed_in  \n",
       "0           NaN                        Comedy, Stand Up  \n",
       "1        94 min                  Crime, Drama, Thriller  \n",
       "2       108 min                        Action, Thriller  \n",
       "3        97 min                                  Horror  \n",
       "4       104 min               Science Fiction, Thriller  \n",
       "...         ...                                     ...  \n",
       "3068  3 Seasons             Action, Adventure, Classics  \n",
       "3069  7 Seasons      Action, Adventure, Science Fiction  \n",
       "3070   1 Season  Horror, International, Science Fiction  \n",
       "3071  5 Seasons     Classics, Science Fiction, Thriller  \n",
       "3072   1 Season             Anime, Drama, International  \n",
       "\n",
       "[3073 rows x 7 columns]"
      ]
     },
     "execution_count": 49,
     "metadata": {},
     "output_type": "execute_result"
    }
   ],
   "source": [
    "df3"
   ]
  },
  {
   "cell_type": "code",
   "execution_count": 50,
   "id": "92e220e6",
   "metadata": {},
   "outputs": [],
   "source": [
    "#dfEn1 = df4[df4['title'] == 'The Fades'] "
   ]
  },
  {
   "cell_type": "markdown",
   "id": "3e01a0d5",
   "metadata": {},
   "source": [
    "NaN values in duration column represent 15.59 % of the total registers, we can eliminate these rows"
   ]
  },
  {
   "cell_type": "code",
   "execution_count": 51,
   "id": "2d68c1b9",
   "metadata": {},
   "outputs": [],
   "source": [
    "df3 = df3[df3.duration.isna()== False]"
   ]
  },
  {
   "cell_type": "code",
   "execution_count": 52,
   "id": "8bccf65d",
   "metadata": {},
   "outputs": [
    {
     "data": {
      "text/plain": [
       "(2594, 7)"
      ]
     },
     "execution_count": 52,
     "metadata": {},
     "output_type": "execute_result"
    }
   ],
   "source": [
    "df3.shape"
   ]
  },
  {
   "cell_type": "code",
   "execution_count": 53,
   "id": "542d56db",
   "metadata": {},
   "outputs": [
    {
     "data": {
      "text/plain": [
       "<AxesSubplot:>"
      ]
     },
     "execution_count": 53,
     "metadata": {},
     "output_type": "execute_result"
    },
    {
     "data": {
      "image/png": "[encoded data removed]",
      "text/plain": [
       "<Figure size 432x288 with 2 Axes>"
      ]
     },
     "metadata": {
      "needs_background": "light"
     },
     "output_type": "display_data"
    }
   ],
   "source": [
    "sns.heatmap(df3.isnull(),yticklabels=False,cmap = \"magma\")"
   ]
  },
  {
   "cell_type": "markdown",
   "id": "7a7daaf8",
   "metadata": {},
   "source": [
    "## DataFrame 4 ( Netflix )"
   ]
  },
  {
   "cell_type": "markdown",
   "id": "f87ca542",
   "metadata": {},
   "source": [
    "#### Check for nan values"
   ]
  },
  {
   "cell_type": "code",
   "execution_count": 54,
   "id": "72723edf",
   "metadata": {},
   "outputs": [
    {
     "data": {
      "text/plain": [
       "True"
      ]
     },
     "execution_count": 54,
     "metadata": {},
     "output_type": "execute_result"
    }
   ],
   "source": [
    "df4.isnull().any().any()"
   ]
  },
  {
   "cell_type": "code",
   "execution_count": 55,
   "id": "c654e22f",
   "metadata": {},
   "outputs": [
    {
     "data": {
      "text/plain": [
       "Index(['show_id', 'type', 'title', 'director', 'cast', 'country', 'date_added',\n",
       "       'release_year', 'rating', 'duration', 'listed_in', 'description'],\n",
       "      dtype='object')"
      ]
     },
     "execution_count": 55,
     "metadata": {},
     "output_type": "execute_result"
    }
   ],
   "source": [
    "df4.columns"
   ]
  },
  {
   "cell_type": "code",
   "execution_count": 56,
   "id": "b652e452",
   "metadata": {},
   "outputs": [
    {
     "name": "stdout",
     "output_type": "stream",
     "text": [
      "<class 'pandas.core.frame.DataFrame'>\n",
      "RangeIndex: 8807 entries, 0 to 8806\n",
      "Data columns (total 12 columns):\n",
      " #   Column        Non-Null Count  Dtype \n",
      "---  ------        --------------  ----- \n",
      " 0   show_id       8807 non-null   object\n",
      " 1   type          8807 non-null   object\n",
      " 2   title         8807 non-null   object\n",
      " 3   director      6173 non-null   object\n",
      " 4   cast          7982 non-null   object\n",
      " 5   country       7976 non-null   object\n",
      " 6   date_added    8797 non-null   object\n",
      " 7   release_year  8807 non-null   int64 \n",
      " 8   rating        8803 non-null   object\n",
      " 9   duration      8804 non-null   object\n",
      " 10  listed_in     8807 non-null   object\n",
      " 11  description   8807 non-null   object\n",
      "dtypes: int64(1), object(11)\n",
      "memory usage: 825.8+ KB\n"
     ]
    }
   ],
   "source": [
    "df4.info()"
   ]
  },
  {
   "cell_type": "markdown",
   "id": "8400525f",
   "metadata": {},
   "source": [
    "#### Eliminate columns we aren't working with"
   ]
  },
  {
   "cell_type": "code",
   "execution_count": 57,
   "id": "2b271335",
   "metadata": {},
   "outputs": [],
   "source": [
    "df4 = df4.drop(columns=['director','country','date_added','rating','description'])"
   ]
  },
  {
   "cell_type": "markdown",
   "id": "a4b120c2",
   "metadata": {},
   "source": [
    "#### count NaN values"
   ]
  },
  {
   "cell_type": "code",
   "execution_count": 58,
   "id": "632f1d6b",
   "metadata": {},
   "outputs": [
    {
     "name": "stdout",
     "output_type": "stream",
     "text": [
      "___________________________________________________________________________\n",
      "Column show_id has 0 NaN values over 8807 records\n",
      "The Nan percentage is:  0.0\n",
      "___________________________________________________________________________\n",
      "Column type has 0 NaN values over 8807 records\n",
      "The Nan percentage is:  0.0\n",
      "___________________________________________________________________________\n",
      "Column title has 0 NaN values over 8807 records\n",
      "The Nan percentage is:  0.0\n",
      "___________________________________________________________________________\n",
      "Column cast has 825 NaN values over 8807 records\n",
      "The Nan percentage is:  9.37\n",
      "___________________________________________________________________________\n",
      "Column release_year has 0 NaN values over 8807 records\n",
      "The Nan percentage is:  0.0\n",
      "___________________________________________________________________________\n",
      "Column duration has 3 NaN values over 8807 records\n",
      "The Nan percentage is:  0.03\n",
      "___________________________________________________________________________\n",
      "Column listed_in has 0 NaN values over 8807 records\n",
      "The Nan percentage is:  0.0\n"
     ]
    }
   ],
   "source": [
    "nanPrct = []\n",
    "for col in df4.columns:\n",
    "    nans = df4[col].isna().sum()\n",
    "    print('_'*75)\n",
    "    print (f'Column {col} has {nans} NaN values over {df4.shape[0]} records')\n",
    "    pNan = round((nans/df4.shape[0])*100,2)\n",
    "    print(f'The Nan percentage is:  {pNan}')\n",
    "    nanPrct.append((col, pNan))"
   ]
  },
  {
   "cell_type": "markdown",
   "id": "ac62a6aa",
   "metadata": {},
   "source": [
    "#### Eliminate rows"
   ]
  },
  {
   "cell_type": "code",
   "execution_count": 59,
   "id": "0ce13449",
   "metadata": {},
   "outputs": [],
   "source": [
    "df4 = df4[df4.cast.isna()== False]"
   ]
  },
  {
   "cell_type": "code",
   "execution_count": 60,
   "id": "0b8cd9ed",
   "metadata": {},
   "outputs": [],
   "source": [
    "df4 = df4[df4.duration.isna()== False]"
   ]
  },
  {
   "cell_type": "code",
   "execution_count": 61,
   "id": "dd621897",
   "metadata": {},
   "outputs": [
    {
     "data": {
      "text/plain": [
       "False"
      ]
     },
     "execution_count": 61,
     "metadata": {},
     "output_type": "execute_result"
    }
   ],
   "source": [
    "df4.isna().any().any()"
   ]
  },
  {
   "cell_type": "markdown",
   "id": "f7b00bbc",
   "metadata": {},
   "source": [
    "## Add an extra column ('company') for later identification"
   ]
  },
  {
   "cell_type": "code",
   "execution_count": 62,
   "id": "97b26b14",
   "metadata": {},
   "outputs": [],
   "source": [
    "df1 = df1.copy()"
   ]
  },
  {
   "cell_type": "code",
   "execution_count": 63,
   "id": "70335c67",
   "metadata": {},
   "outputs": [],
   "source": [
    "df1['company'] = 'Amazon Prime'"
   ]
  },
  {
   "cell_type": "code",
   "execution_count": 64,
   "id": "651892d1",
   "metadata": {},
   "outputs": [],
   "source": [
    "df2['company'] = 'Disney'"
   ]
  },
  {
   "cell_type": "code",
   "execution_count": 65,
   "id": "aadbe604",
   "metadata": {},
   "outputs": [],
   "source": [
    "df3 = df3.copy()"
   ]
  },
  {
   "cell_type": "code",
   "execution_count": 66,
   "id": "c65d9aff",
   "metadata": {},
   "outputs": [],
   "source": [
    "df3['company'] = 'Hulu'"
   ]
  },
  {
   "cell_type": "code",
   "execution_count": 67,
   "id": "2ef30d32",
   "metadata": {},
   "outputs": [],
   "source": [
    "df4['company'] = 'Netflix'"
   ]
  },
  {
   "cell_type": "code",
   "execution_count": 129,
   "id": "b54992be",
   "metadata": {},
   "outputs": [],
   "source": [
    "#df1"
   ]
  },
  {
   "cell_type": "code",
   "execution_count": 126,
   "id": "60dd7f9c",
   "metadata": {},
   "outputs": [],
   "source": [
    "#df2"
   ]
  },
  {
   "cell_type": "code",
   "execution_count": 127,
   "id": "ad9ddd3d",
   "metadata": {},
   "outputs": [],
   "source": [
    "#df3"
   ]
  },
  {
   "cell_type": "code",
   "execution_count": 128,
   "id": "15b8c87e",
   "metadata": {},
   "outputs": [],
   "source": [
    "#df4"
   ]
  },
  {
   "cell_type": "markdown",
   "id": "0342c75a",
   "metadata": {},
   "source": [
    "#### Check if shows and movies are denominated in the same way in all four DataFrames"
   ]
  },
  {
   "cell_type": "code",
   "execution_count": 72,
   "id": "cccb70d9",
   "metadata": {},
   "outputs": [
    {
     "data": {
      "text/plain": [
       "['TV Show', 'Movie']"
      ]
     },
     "execution_count": 72,
     "metadata": {},
     "output_type": "execute_result"
    }
   ],
   "source": [
    "typeS = df4['type'].unique().tolist()\n",
    "typeS"
   ]
  },
  {
   "cell_type": "markdown",
   "id": "45f90311",
   "metadata": {},
   "source": [
    "# Now we are ready to concatenate the four DataFrames"
   ]
  },
  {
   "cell_type": "code",
   "execution_count": 73,
   "id": "452830cc",
   "metadata": {},
   "outputs": [
    {
     "name": "stdout",
     "output_type": "stream",
     "text": [
      "df1 total registers is: 8401\n",
      "df2 total registers is: 1260\n",
      "df3 total registers is: 2594\n",
      "df4 total registers is: 7979\n",
      "Total registers: 20234\n"
     ]
    }
   ],
   "source": [
    "print(f'df1 total registers is: {len(df1)}\\ndf2 total registers is: {len(df2)}\\ndf3 total registers is: {len(df3)}\\n\\\n",
    "df4 total registers is: {len(df4)}\\nTotal registers: {len(df1)+len(df2)+len(df3)+len(df4)}')"
   ]
  },
  {
   "cell_type": "code",
   "execution_count": 74,
   "id": "7217bc20",
   "metadata": {},
   "outputs": [],
   "source": [
    "dataFrames = [df1,df2,df3,df4]"
   ]
  },
  {
   "cell_type": "code",
   "execution_count": 75,
   "id": "a3ac2379",
   "metadata": {},
   "outputs": [],
   "source": [
    "df = pd.concat(dataFrames)"
   ]
  },
  {
   "cell_type": "code",
   "execution_count": 76,
   "id": "13e0b26a",
   "metadata": {},
   "outputs": [
    {
     "data": {
      "text/html": [
       "<div>\n",
       "<style scoped>\n",
       "    .dataframe tbody tr th:only-of-type {\n",
       "        vertical-align: middle;\n",
       "    }\n",
       "\n",
       "    .dataframe tbody tr th {\n",
       "        vertical-align: top;\n",
       "    }\n",
       "\n",
       "    .dataframe thead th {\n",
       "        text-align: right;\n",
       "    }\n",
       "</style>\n",
       "<table border=\"1\" class=\"dataframe\">\n",
       "  <thead>\n",
       "    <tr style=\"text-align: right;\">\n",
       "      <th></th>\n",
       "      <th>show_id</th>\n",
       "      <th>type</th>\n",
       "      <th>title</th>\n",
       "      <th>cast</th>\n",
       "      <th>release_year</th>\n",
       "      <th>duration</th>\n",
       "      <th>listed_in</th>\n",
       "      <th>company</th>\n",
       "    </tr>\n",
       "  </thead>\n",
       "  <tbody>\n",
       "    <tr>\n",
       "      <th>8801</th>\n",
       "      <td>s8802</td>\n",
       "      <td>Movie</td>\n",
       "      <td>Zinzana</td>\n",
       "      <td>Ali Suliman, Saleh Bakri, Yasa, Ali Al-Jabri, ...</td>\n",
       "      <td>2015</td>\n",
       "      <td>96 min</td>\n",
       "      <td>Dramas, International Movies, Thrillers</td>\n",
       "      <td>Netflix</td>\n",
       "    </tr>\n",
       "    <tr>\n",
       "      <th>8802</th>\n",
       "      <td>s8803</td>\n",
       "      <td>Movie</td>\n",
       "      <td>Zodiac</td>\n",
       "      <td>Mark Ruffalo, Jake Gyllenhaal, Robert Downey J...</td>\n",
       "      <td>2007</td>\n",
       "      <td>158 min</td>\n",
       "      <td>Cult Movies, Dramas, Thrillers</td>\n",
       "      <td>Netflix</td>\n",
       "    </tr>\n",
       "    <tr>\n",
       "      <th>8804</th>\n",
       "      <td>s8805</td>\n",
       "      <td>Movie</td>\n",
       "      <td>Zombieland</td>\n",
       "      <td>Jesse Eisenberg, Woody Harrelson, Emma Stone, ...</td>\n",
       "      <td>2009</td>\n",
       "      <td>88 min</td>\n",
       "      <td>Comedies, Horror Movies</td>\n",
       "      <td>Netflix</td>\n",
       "    </tr>\n",
       "    <tr>\n",
       "      <th>8805</th>\n",
       "      <td>s8806</td>\n",
       "      <td>Movie</td>\n",
       "      <td>Zoom</td>\n",
       "      <td>Tim Allen, Courteney Cox, Chevy Chase, Kate Ma...</td>\n",
       "      <td>2006</td>\n",
       "      <td>88 min</td>\n",
       "      <td>Children &amp; Family Movies, Comedies</td>\n",
       "      <td>Netflix</td>\n",
       "    </tr>\n",
       "    <tr>\n",
       "      <th>8806</th>\n",
       "      <td>s8807</td>\n",
       "      <td>Movie</td>\n",
       "      <td>Zubaan</td>\n",
       "      <td>Vicky Kaushal, Sarah-Jane Dias, Raaghav Chanan...</td>\n",
       "      <td>2015</td>\n",
       "      <td>111 min</td>\n",
       "      <td>Dramas, International Movies, Music &amp; Musicals</td>\n",
       "      <td>Netflix</td>\n",
       "    </tr>\n",
       "  </tbody>\n",
       "</table>\n",
       "</div>"
      ],
      "text/plain": [
       "     show_id   type       title  \\\n",
       "8801   s8802  Movie     Zinzana   \n",
       "8802   s8803  Movie      Zodiac   \n",
       "8804   s8805  Movie  Zombieland   \n",
       "8805   s8806  Movie        Zoom   \n",
       "8806   s8807  Movie      Zubaan   \n",
       "\n",
       "                                                   cast  release_year  \\\n",
       "8801  Ali Suliman, Saleh Bakri, Yasa, Ali Al-Jabri, ...          2015   \n",
       "8802  Mark Ruffalo, Jake Gyllenhaal, Robert Downey J...          2007   \n",
       "8804  Jesse Eisenberg, Woody Harrelson, Emma Stone, ...          2009   \n",
       "8805  Tim Allen, Courteney Cox, Chevy Chase, Kate Ma...          2006   \n",
       "8806  Vicky Kaushal, Sarah-Jane Dias, Raaghav Chanan...          2015   \n",
       "\n",
       "     duration                                       listed_in  company  \n",
       "8801   96 min         Dramas, International Movies, Thrillers  Netflix  \n",
       "8802  158 min                  Cult Movies, Dramas, Thrillers  Netflix  \n",
       "8804   88 min                         Comedies, Horror Movies  Netflix  \n",
       "8805   88 min              Children & Family Movies, Comedies  Netflix  \n",
       "8806  111 min  Dramas, International Movies, Music & Musicals  Netflix  "
      ]
     },
     "execution_count": 76,
     "metadata": {},
     "output_type": "execute_result"
    }
   ],
   "source": [
    "df.tail()"
   ]
  },
  {
   "cell_type": "code",
   "execution_count": 77,
   "id": "8c1c30bc",
   "metadata": {},
   "outputs": [
    {
     "data": {
      "text/plain": [
       "show_id                                                     s6321\n",
       "type                                                        Movie\n",
       "title                                                 Bittoo Boss\n",
       "cast            Pulkit Samrat, Ashok Pathak, Tanvir Singh, Ami...\n",
       "release_year                                                 2012\n",
       "duration                                                  117 min\n",
       "listed_in                  Comedies, Dramas, International Movies\n",
       "company                                                   Netflix\n",
       "Name: 6320, dtype: object"
      ]
     },
     "execution_count": 77,
     "metadata": {},
     "output_type": "execute_result"
    }
   ],
   "source": [
    "df.iloc[18000]"
   ]
  },
  {
   "cell_type": "code",
   "execution_count": 78,
   "id": "72df1cd8",
   "metadata": {},
   "outputs": [],
   "source": [
    "df = df.reset_index(drop=True)"
   ]
  },
  {
   "cell_type": "code",
   "execution_count": 79,
   "id": "35101fcf",
   "metadata": {},
   "outputs": [
    {
     "data": {
      "text/plain": [
       "['Movie', 'TV Show']"
      ]
     },
     "execution_count": 79,
     "metadata": {},
     "output_type": "execute_result"
    }
   ],
   "source": [
    "dfType = df['type'].unique().tolist()\n",
    "dfType"
   ]
  },
  {
   "cell_type": "markdown",
   "id": "3aaffd37",
   "metadata": {},
   "source": [
    "#### We can drop colum 'show_id', because it doesn't make too much sense in this new DataFrame"
   ]
  },
  {
   "cell_type": "code",
   "execution_count": 80,
   "id": "44d8e552",
   "metadata": {},
   "outputs": [],
   "source": [
    "df.drop(columns =['show_id'], inplace = True)"
   ]
  },
  {
   "cell_type": "markdown",
   "id": "63591ab1",
   "metadata": {},
   "source": [
    "#### The column \"duration\" has mixed data. On the one hand, the duration is expressed as minutes, for movies. On the other hand, counts the number of seasons for the tv shows. So, we'll separate it."
   ]
  },
  {
   "cell_type": "markdown",
   "id": "2e771890",
   "metadata": {},
   "source": [
    "### Separate 'duration' in two columns"
   ]
  },
  {
   "cell_type": "code",
   "execution_count": 82,
   "id": "aa051b5d",
   "metadata": {},
   "outputs": [],
   "source": [
    "df.insert(loc = 5, column = 'duration_mins', value = 0)"
   ]
  },
  {
   "cell_type": "code",
   "execution_count": 83,
   "id": "ff6d418f",
   "metadata": {},
   "outputs": [],
   "source": [
    "df.insert(loc = 6, column = 'seasons', value = 0)"
   ]
  },
  {
   "cell_type": "code",
   "execution_count": 84,
   "id": "9fe7af37",
   "metadata": {},
   "outputs": [],
   "source": [
    "df['duration_mins']=df.query('type == \"Movie\"')['duration']"
   ]
  },
  {
   "cell_type": "code",
   "execution_count": 85,
   "id": "5a035a04",
   "metadata": {},
   "outputs": [],
   "source": [
    "df['seasons']=df.query('type ==\"TV Show\"')['duration']"
   ]
  },
  {
   "cell_type": "markdown",
   "id": "65ae6c2e",
   "metadata": {},
   "source": [
    "#### Fill NaN values"
   ]
  },
  {
   "cell_type": "code",
   "execution_count": 86,
   "id": "8bb95e03",
   "metadata": {},
   "outputs": [],
   "source": [
    "df[['duration_mins', 'seasons']] = df[['duration_mins','seasons']].fillna(value='0')"
   ]
  },
  {
   "cell_type": "markdown",
   "id": "6bc5d895",
   "metadata": {},
   "source": [
    "#### Split the original string to get an integer value and drop the remaining string"
   ]
  },
  {
   "cell_type": "code",
   "execution_count": 87,
   "id": "bd0b8092",
   "metadata": {},
   "outputs": [],
   "source": [
    "def splitString(STR): \n",
    "    lRS = STR.split(' ', 1)\n",
    "    stripped = lRS[0].strip()    \n",
    "    return stripped"
   ]
  },
  {
   "cell_type": "code",
   "execution_count": 91,
   "id": "a5f11707",
   "metadata": {},
   "outputs": [],
   "source": [
    "df[\"duration_mins\"] = df[\"duration_mins\"].apply(splitString)"
   ]
  },
  {
   "cell_type": "code",
   "execution_count": 92,
   "id": "ec1dab0d",
   "metadata": {},
   "outputs": [],
   "source": [
    "df[\"seasons\"] = df[\"seasons\"].apply(splitString)"
   ]
  },
  {
   "cell_type": "code",
   "execution_count": 93,
   "id": "6bd96e64",
   "metadata": {},
   "outputs": [],
   "source": [
    "df['duration_mins'] = df['duration_mins'].astype(int)"
   ]
  },
  {
   "cell_type": "code",
   "execution_count": 94,
   "id": "7d8b9241",
   "metadata": {},
   "outputs": [],
   "source": [
    "df['seasons'] = df['seasons'].astype(int)"
   ]
  },
  {
   "cell_type": "code",
   "execution_count": 95,
   "id": "80514814",
   "metadata": {},
   "outputs": [
    {
     "name": "stdout",
     "output_type": "stream",
     "text": [
      "<class 'pandas.core.frame.DataFrame'>\n",
      "RangeIndex: 20234 entries, 0 to 20233\n",
      "Data columns (total 9 columns):\n",
      " #   Column         Non-Null Count  Dtype \n",
      "---  ------         --------------  ----- \n",
      " 0   type           20234 non-null  object\n",
      " 1   title          20234 non-null  object\n",
      " 2   cast           17640 non-null  object\n",
      " 3   release_year   20234 non-null  int64 \n",
      " 4   duration       20234 non-null  object\n",
      " 5   duration_mins  20234 non-null  int32 \n",
      " 6   seasons        20234 non-null  int32 \n",
      " 7   listed_in      20234 non-null  object\n",
      " 8   company        20234 non-null  object\n",
      "dtypes: int32(2), int64(1), object(6)\n",
      "memory usage: 1.2+ MB\n"
     ]
    }
   ],
   "source": [
    "df.info()"
   ]
  },
  {
   "cell_type": "code",
   "execution_count": 130,
   "id": "6632acd1",
   "metadata": {},
   "outputs": [],
   "source": [
    "#df.head()"
   ]
  },
  {
   "cell_type": "markdown",
   "id": "0906665c",
   "metadata": {},
   "source": [
    "## Normalize string data type"
   ]
  },
  {
   "cell_type": "code",
   "execution_count": 96,
   "id": "0802cf52",
   "metadata": {},
   "outputs": [],
   "source": [
    "df[['cast']] = df[['cast']].fillna(value='No record')"
   ]
  },
  {
   "cell_type": "code",
   "execution_count": 97,
   "id": "235b6406",
   "metadata": {},
   "outputs": [],
   "source": [
    "def capitalize_string (STR):\n",
    "    STR =  STR.title() \n",
    "    return STR   "
   ]
  },
  {
   "cell_type": "code",
   "execution_count": 98,
   "id": "6064758f",
   "metadata": {},
   "outputs": [],
   "source": [
    "df['title'] = df['title'].apply(capitalize_string)\n",
    "df['cast'] = df['cast'].apply(capitalize_string)\n",
    "df['listed_in'] = df['listed_in'].apply(capitalize_string)"
   ]
  },
  {
   "cell_type": "code",
   "execution_count": 100,
   "id": "7a00b09b",
   "metadata": {},
   "outputs": [],
   "source": [
    "df.drop(columns=['duration'], inplace=True)"
   ]
  },
  {
   "cell_type": "code",
   "execution_count": 101,
   "id": "de24e6c2",
   "metadata": {},
   "outputs": [
    {
     "data": {
      "text/plain": [
       "False"
      ]
     },
     "execution_count": 101,
     "metadata": {},
     "output_type": "execute_result"
    }
   ],
   "source": [
    "df.isna().any().any()"
   ]
  },
  {
   "cell_type": "markdown",
   "id": "25d31f3e",
   "metadata": {},
   "source": [
    "## Check for outliers"
   ]
  },
  {
   "cell_type": "code",
   "execution_count": 102,
   "id": "2394a2e5",
   "metadata": {},
   "outputs": [
    {
     "data": {
      "text/plain": [
       "<AxesSubplot:xlabel='release_year'>"
      ]
     },
     "execution_count": 102,
     "metadata": {},
     "output_type": "execute_result"
    },
    {
     "data": {
      "image/png": "[encoded data removed]",
      "text/plain": [
       "<Figure size 432x288 with 1 Axes>"
      ]
     },
     "metadata": {
      "needs_background": "light"
     },
     "output_type": "display_data"
    }
   ],
   "source": [
    "sns.boxplot( x=df['release_year'] )"
   ]
  },
  {
   "cell_type": "code",
   "execution_count": 103,
   "id": "2a58c0ad",
   "metadata": {},
   "outputs": [
    {
     "data": {
      "text/plain": [
       "1920"
      ]
     },
     "execution_count": 103,
     "metadata": {},
     "output_type": "execute_result"
    }
   ],
   "source": [
    "df.release_year.min()"
   ]
  },
  {
   "cell_type": "code",
   "execution_count": 104,
   "id": "f42635ee",
   "metadata": {},
   "outputs": [
    {
     "data": {
      "text/plain": [
       "2021"
      ]
     },
     "execution_count": 104,
     "metadata": {},
     "output_type": "execute_result"
    }
   ],
   "source": [
    "df.release_year.max()"
   ]
  },
  {
   "cell_type": "code",
   "execution_count": 105,
   "id": "d6a739f1",
   "metadata": {},
   "outputs": [
    {
     "data": {
      "text/plain": [
       "<AxesSubplot:xlabel='duration_mins'>"
      ]
     },
     "execution_count": 105,
     "metadata": {},
     "output_type": "execute_result"
    },
    {
     "data": {
      "image/png": "[encoded data removed]",
      "text/plain": [
       "<Figure size 432x288 with 1 Axes>"
      ]
     },
     "metadata": {
      "needs_background": "light"
     },
     "output_type": "display_data"
    }
   ],
   "source": [
    "sns.boxplot( x=df['duration_mins'] )"
   ]
  },
  {
   "cell_type": "code",
   "execution_count": 106,
   "id": "b0651413",
   "metadata": {},
   "outputs": [],
   "source": [
    "#df.loc[df['duration_mins'] > 200]"
   ]
  },
  {
   "cell_type": "markdown",
   "id": "f2a3ff3d",
   "metadata": {},
   "source": [
    "Night Sky With Nature Sounds With 432Hz Nature...(540 mins) is a video \"created exclusively for Sharecare Windows sleep\".\n",
    "https://www.amazon.com/Night-Nature-Sounds-432hz-nature/dp/B0711YDW56"
   ]
  },
  {
   "cell_type": "markdown",
   "id": "6ceb7186",
   "metadata": {},
   "source": [
    "Himalayan Singing Bowls 9 hours (550 mins) is an \"[...ambient sleep and meditation video is a full nine hours with an ultra dark screen for deep sleep, lucid dreaming and meditation.]\" https://www.amazon.com/Himalayan-Singing-Bowls-Restful-Meditation/dp/B06ZYL49GH"
   ]
  },
  {
   "cell_type": "markdown",
   "id": "baa1cf8c",
   "metadata": {},
   "source": [
    "\"Black Mirror: Bandersnatch\" total footage is 5 hours 12 minutes"
   ]
  },
  {
   "cell_type": "markdown",
   "id": "d75f57e1",
   "metadata": {},
   "source": [
    "Other records are just long length movies. So, it seems there's nothing wrong here, let's move on."
   ]
  },
  {
   "cell_type": "code",
   "execution_count": 107,
   "id": "2b7424ad",
   "metadata": {},
   "outputs": [
    {
     "data": {
      "text/plain": [
       "<AxesSubplot:xlabel='seasons'>"
      ]
     },
     "execution_count": 107,
     "metadata": {},
     "output_type": "execute_result"
    },
    {
     "data": {
      "image/png": "[encoded data removed]",
      "text/plain": [
       "<Figure size 432x288 with 1 Axes>"
      ]
     },
     "metadata": {
      "needs_background": "light"
     },
     "output_type": "display_data"
    }
   ],
   "source": [
    "sns.boxplot( x=df['seasons'] )"
   ]
  },
  {
   "cell_type": "code",
   "execution_count": 131,
   "id": "92bc4a20",
   "metadata": {},
   "outputs": [],
   "source": [
    "#df.loc[df['seasons'] > 10].iloc[50:]"
   ]
  },
  {
   "cell_type": "markdown",
   "id": "1a5f2f99",
   "metadata": {},
   "source": [
    "A quick search in google showed that these T.V. shows have been on air for a long period. In some cases the actual amount of seasons is higher than the one reflected in this data frame."
   ]
  },
  {
   "cell_type": "code",
   "execution_count": 109,
   "id": "629c6719",
   "metadata": {},
   "outputs": [],
   "source": [
    "df.at[12137,\"seasons\"] = 16  "
   ]
  },
  {
   "cell_type": "code",
   "execution_count": 110,
   "id": "d6c0646e",
   "metadata": {},
   "outputs": [],
   "source": [
    "df.reset_index(inplace=True)"
   ]
  },
  {
   "cell_type": "code",
   "execution_count": 111,
   "id": "aa3fc4eb",
   "metadata": {},
   "outputs": [],
   "source": [
    "df.rename(columns={'index':'id_show','type':'show_type'}, inplace=True)\n",
    "#df.rename(columns={'index':'id_show'}, inplace = True)"
   ]
  },
  {
   "cell_type": "code",
   "execution_count": 132,
   "id": "054cbfdc",
   "metadata": {},
   "outputs": [],
   "source": [
    "#df"
   ]
  },
  {
   "cell_type": "markdown",
   "id": "37e2f43f",
   "metadata": {},
   "source": [
    "# Finally, we can save our dataFrame"
   ]
  },
  {
   "cell_type": "code",
   "execution_count": 116,
   "id": "0aea771b",
   "metadata": {},
   "outputs": [],
   "source": [
    "import os"
   ]
  },
  {
   "cell_type": "code",
   "execution_count": 117,
   "id": "b8193323",
   "metadata": {},
   "outputs": [
    {
     "data": {
      "text/plain": [
       "'C:\\\\Users\\\\diego\\\\Desktop\\\\PI01D05\\\\PI01_DATA05\\\\JupyterNotebooks'"
      ]
     },
     "execution_count": 117,
     "metadata": {},
     "output_type": "execute_result"
    }
   ],
   "source": [
    "cwd = os.getcwd()\n",
    "cwd"
   ]
  },
  {
   "cell_type": "code",
   "execution_count": 119,
   "id": "e7ff4ce7",
   "metadata": {},
   "outputs": [],
   "source": [
    "df.to_csv('C:\\\\Users\\\\diego\\\\Desktop\\\\PI01D05\\\\PI01_DATA05\\\\Datasets\\\\all_shows.csv', index= False)"
   ]
  },
  {
   "cell_type": "markdown",
   "id": "9a2b826d",
   "metadata": {},
   "source": [
    "#### Check "
   ]
  },
  {
   "cell_type": "code",
   "execution_count": 123,
   "id": "13b0770e",
   "metadata": {},
   "outputs": [],
   "source": [
    "dfF = pd.read_csv('..\\\\Datasets\\\\all_shows.csv')"
   ]
  },
  {
   "cell_type": "code",
   "execution_count": 124,
   "id": "1cce5a36",
   "metadata": {},
   "outputs": [
    {
     "data": {
      "text/html": [
       "<div>\n",
       "<style scoped>\n",
       "    .dataframe tbody tr th:only-of-type {\n",
       "        vertical-align: middle;\n",
       "    }\n",
       "\n",
       "    .dataframe tbody tr th {\n",
       "        vertical-align: top;\n",
       "    }\n",
       "\n",
       "    .dataframe thead th {\n",
       "        text-align: right;\n",
       "    }\n",
       "</style>\n",
       "<table border=\"1\" class=\"dataframe\">\n",
       "  <thead>\n",
       "    <tr style=\"text-align: right;\">\n",
       "      <th></th>\n",
       "      <th>id_show</th>\n",
       "      <th>show_type</th>\n",
       "      <th>title</th>\n",
       "      <th>cast</th>\n",
       "      <th>release_year</th>\n",
       "      <th>duration_mins</th>\n",
       "      <th>seasons</th>\n",
       "      <th>listed_in</th>\n",
       "      <th>company</th>\n",
       "    </tr>\n",
       "  </thead>\n",
       "  <tbody>\n",
       "    <tr>\n",
       "      <th>0</th>\n",
       "      <td>0</td>\n",
       "      <td>Movie</td>\n",
       "      <td>The Grand Seduction</td>\n",
       "      <td>Brendan Gleeson, Taylor Kitsch, Gordon Pinsent</td>\n",
       "      <td>2014</td>\n",
       "      <td>113</td>\n",
       "      <td>0</td>\n",
       "      <td>Comedy, Drama</td>\n",
       "      <td>Amazon Prime</td>\n",
       "    </tr>\n",
       "    <tr>\n",
       "      <th>1</th>\n",
       "      <td>1</td>\n",
       "      <td>Movie</td>\n",
       "      <td>Take Care Good Night</td>\n",
       "      <td>Mahesh Manjrekar, Abhay Mahajan, Sachin Khedekar</td>\n",
       "      <td>2018</td>\n",
       "      <td>110</td>\n",
       "      <td>0</td>\n",
       "      <td>Drama, International</td>\n",
       "      <td>Amazon Prime</td>\n",
       "    </tr>\n",
       "    <tr>\n",
       "      <th>2</th>\n",
       "      <td>2</td>\n",
       "      <td>Movie</td>\n",
       "      <td>Secrets Of Deception</td>\n",
       "      <td>Tom Sizemore, Lorenzo Lamas, Robert Lasardo, R...</td>\n",
       "      <td>2017</td>\n",
       "      <td>74</td>\n",
       "      <td>0</td>\n",
       "      <td>Action, Drama, Suspense</td>\n",
       "      <td>Amazon Prime</td>\n",
       "    </tr>\n",
       "    <tr>\n",
       "      <th>3</th>\n",
       "      <td>3</td>\n",
       "      <td>Movie</td>\n",
       "      <td>Pink: Staying True</td>\n",
       "      <td>Interviews With: Pink, Adele, Beyoncé, Britney...</td>\n",
       "      <td>2014</td>\n",
       "      <td>69</td>\n",
       "      <td>0</td>\n",
       "      <td>Documentary</td>\n",
       "      <td>Amazon Prime</td>\n",
       "    </tr>\n",
       "    <tr>\n",
       "      <th>4</th>\n",
       "      <td>4</td>\n",
       "      <td>Movie</td>\n",
       "      <td>Monster Maker</td>\n",
       "      <td>Harry Dean Stanton, Kieran O'Brien, George Cos...</td>\n",
       "      <td>1989</td>\n",
       "      <td>45</td>\n",
       "      <td>0</td>\n",
       "      <td>Drama, Fantasy</td>\n",
       "      <td>Amazon Prime</td>\n",
       "    </tr>\n",
       "    <tr>\n",
       "      <th>...</th>\n",
       "      <td>...</td>\n",
       "      <td>...</td>\n",
       "      <td>...</td>\n",
       "      <td>...</td>\n",
       "      <td>...</td>\n",
       "      <td>...</td>\n",
       "      <td>...</td>\n",
       "      <td>...</td>\n",
       "      <td>...</td>\n",
       "    </tr>\n",
       "    <tr>\n",
       "      <th>20229</th>\n",
       "      <td>20229</td>\n",
       "      <td>Movie</td>\n",
       "      <td>Zinzana</td>\n",
       "      <td>Ali Suliman, Saleh Bakri, Yasa, Ali Al-Jabri, ...</td>\n",
       "      <td>2015</td>\n",
       "      <td>96</td>\n",
       "      <td>0</td>\n",
       "      <td>Dramas, International Movies, Thrillers</td>\n",
       "      <td>Netflix</td>\n",
       "    </tr>\n",
       "    <tr>\n",
       "      <th>20230</th>\n",
       "      <td>20230</td>\n",
       "      <td>Movie</td>\n",
       "      <td>Zodiac</td>\n",
       "      <td>Mark Ruffalo, Jake Gyllenhaal, Robert Downey J...</td>\n",
       "      <td>2007</td>\n",
       "      <td>158</td>\n",
       "      <td>0</td>\n",
       "      <td>Cult Movies, Dramas, Thrillers</td>\n",
       "      <td>Netflix</td>\n",
       "    </tr>\n",
       "    <tr>\n",
       "      <th>20231</th>\n",
       "      <td>20231</td>\n",
       "      <td>Movie</td>\n",
       "      <td>Zombieland</td>\n",
       "      <td>Jesse Eisenberg, Woody Harrelson, Emma Stone, ...</td>\n",
       "      <td>2009</td>\n",
       "      <td>88</td>\n",
       "      <td>0</td>\n",
       "      <td>Comedies, Horror Movies</td>\n",
       "      <td>Netflix</td>\n",
       "    </tr>\n",
       "    <tr>\n",
       "      <th>20232</th>\n",
       "      <td>20232</td>\n",
       "      <td>Movie</td>\n",
       "      <td>Zoom</td>\n",
       "      <td>Tim Allen, Courteney Cox, Chevy Chase, Kate Ma...</td>\n",
       "      <td>2006</td>\n",
       "      <td>88</td>\n",
       "      <td>0</td>\n",
       "      <td>Children &amp; Family Movies, Comedies</td>\n",
       "      <td>Netflix</td>\n",
       "    </tr>\n",
       "    <tr>\n",
       "      <th>20233</th>\n",
       "      <td>20233</td>\n",
       "      <td>Movie</td>\n",
       "      <td>Zubaan</td>\n",
       "      <td>Vicky Kaushal, Sarah-Jane Dias, Raaghav Chanan...</td>\n",
       "      <td>2015</td>\n",
       "      <td>111</td>\n",
       "      <td>0</td>\n",
       "      <td>Dramas, International Movies, Music &amp; Musicals</td>\n",
       "      <td>Netflix</td>\n",
       "    </tr>\n",
       "  </tbody>\n",
       "</table>\n",
       "<p>20234 rows × 9 columns</p>\n",
       "</div>"
      ],
      "text/plain": [
       "       id_show show_type                 title  \\\n",
       "0            0     Movie   The Grand Seduction   \n",
       "1            1     Movie  Take Care Good Night   \n",
       "2            2     Movie  Secrets Of Deception   \n",
       "3            3     Movie    Pink: Staying True   \n",
       "4            4     Movie         Monster Maker   \n",
       "...        ...       ...                   ...   \n",
       "20229    20229     Movie               Zinzana   \n",
       "20230    20230     Movie                Zodiac   \n",
       "20231    20231     Movie            Zombieland   \n",
       "20232    20232     Movie                  Zoom   \n",
       "20233    20233     Movie                Zubaan   \n",
       "\n",
       "                                                    cast  release_year  \\\n",
       "0         Brendan Gleeson, Taylor Kitsch, Gordon Pinsent          2014   \n",
       "1       Mahesh Manjrekar, Abhay Mahajan, Sachin Khedekar          2018   \n",
       "2      Tom Sizemore, Lorenzo Lamas, Robert Lasardo, R...          2017   \n",
       "3      Interviews With: Pink, Adele, Beyoncé, Britney...          2014   \n",
       "4      Harry Dean Stanton, Kieran O'Brien, George Cos...          1989   \n",
       "...                                                  ...           ...   \n",
       "20229  Ali Suliman, Saleh Bakri, Yasa, Ali Al-Jabri, ...          2015   \n",
       "20230  Mark Ruffalo, Jake Gyllenhaal, Robert Downey J...          2007   \n",
       "20231  Jesse Eisenberg, Woody Harrelson, Emma Stone, ...          2009   \n",
       "20232  Tim Allen, Courteney Cox, Chevy Chase, Kate Ma...          2006   \n",
       "20233  Vicky Kaushal, Sarah-Jane Dias, Raaghav Chanan...          2015   \n",
       "\n",
       "       duration_mins  seasons                                       listed_in  \\\n",
       "0                113        0                                   Comedy, Drama   \n",
       "1                110        0                            Drama, International   \n",
       "2                 74        0                         Action, Drama, Suspense   \n",
       "3                 69        0                                     Documentary   \n",
       "4                 45        0                                  Drama, Fantasy   \n",
       "...              ...      ...                                             ...   \n",
       "20229             96        0         Dramas, International Movies, Thrillers   \n",
       "20230            158        0                  Cult Movies, Dramas, Thrillers   \n",
       "20231             88        0                         Comedies, Horror Movies   \n",
       "20232             88        0              Children & Family Movies, Comedies   \n",
       "20233            111        0  Dramas, International Movies, Music & Musicals   \n",
       "\n",
       "            company  \n",
       "0      Amazon Prime  \n",
       "1      Amazon Prime  \n",
       "2      Amazon Prime  \n",
       "3      Amazon Prime  \n",
       "4      Amazon Prime  \n",
       "...             ...  \n",
       "20229       Netflix  \n",
       "20230       Netflix  \n",
       "20231       Netflix  \n",
       "20232       Netflix  \n",
       "20233       Netflix  \n",
       "\n",
       "[20234 rows x 9 columns]"
      ]
     },
     "execution_count": 124,
     "metadata": {},
     "output_type": "execute_result"
    }
   ],
   "source": [
    "dfF"
   ]
  },
  {
   "cell_type": "code",
   "execution_count": null,
   "id": "3362849c",
   "metadata": {},
   "outputs": [],
   "source": []
  }
 ],
 "metadata": {
  "kernelspec": {
   "display_name": "Python 3 (ipykernel)",
   "language": "python",
   "name": "python3"
  },
  "language_info": {
   "codemirror_mode": {
    "name": "ipython",
    "version": 3
   },
   "file_extension": ".py",
   "mimetype": "text/x-python",
   "name": "python",
   "nbconvert_exporter": "python",
   "pygments_lexer": "ipython3",
   "version": "3.9.12"
  }
 },
 "nbformat": 4,
 "nbformat_minor": 5
}
