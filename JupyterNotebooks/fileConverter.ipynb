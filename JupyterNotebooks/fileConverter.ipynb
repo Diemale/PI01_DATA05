{
 "cells": [
  {
   "cell_type": "code",
   "execution_count": 1,
   "id": "07c4d2e0",
   "metadata": {},
   "outputs": [],
   "source": [
    "import os\n",
    "import pandas as pd\n",
    "#import pyarrow   # esta librería sirve para procesar archivos parquet\n",
    "import json\n",
    "import csv"
   ]
  },
  {
   "cell_type": "code",
   "execution_count": 2,
   "id": "ea8ac747",
   "metadata": {},
   "outputs": [],
   "source": [
    "# La función de abajo sirve para convertir archivos de distintos formatos a csv"
   ]
  },
  {
   "cell_type": "code",
   "execution_count": 3,
   "id": "793e6901",
   "metadata": {},
   "outputs": [],
   "source": [
    "# La funcion conversor de archivos recive 4 parámetros en total. En primer lugar, el path absoluto del archivo de origen.\n",
    "# Los otros 3 parámetros recividos son: primero, extensionDest con formato \".extension\". \n",
    "# Segundo, dirOrigen, nombre del directorio de origen y por último dirDestino, nombre del directorio de destino \n",
    "# donde se guardará el archivo con la extensión especificada en el primer parámetro.\n",
    "\n",
    "def conversor_de_archivos(rutaOrigen, extensionDest, dirOrigen, dirDestino):\n",
    "\n",
    "    for file in os.listdir(rutaOrigen):\n",
    "        split = file.split(\".\")\n",
    "        fName = split[0]\n",
    "        extension = split[1] #separo la dadena y me quedo con la segunda parte\n",
    "        origen = dirOrigen + \"/\" + fName + \".\" + extension\n",
    "        destino = dirDestino +\"/\" + fName + extensionDest\n",
    "        if extension == \"csv\":\n",
    "            pass\n",
    "            #df = pd.read_csv(directorioOrigen + \"/\" + fName + \".\" + extension)\n",
    "            #df.to_csv(directorioDestino +\"/\" + fName + formatoDestino, index=None, sep=',')\n",
    "        \n",
    "        elif extension == \"json\":\n",
    "            df = pd.read_json(origen, lines=False)\n",
    "            df.to_csv(destino, index=None, sep=',')\n",
    "            \n",
    "        elif extension == \"parquet\":\n",
    "            df = pd.read_parquet(origen)\n",
    "            df.to_csv(destino, index=None, sep=',')\n",
    "        \n",
    "        elif extension == \"txt\":\n",
    "            df = pd.read_csv(origen)\n",
    "            df.to_csv(destino, index=None, sep=',')\n",
    "        \n",
    "        elif (extension == \"xlsx\"):\n",
    "            xl = pd.ExcelFile(origen)\n",
    "            listaHojas = xl.sheet_names\n",
    "\n",
    "            for hoja in listaHojas:\n",
    "                df = pd.read_excel(xl,hoja)\n",
    "                df.to_csv(dirDestino + '/'+ hoja + extensionDest, index = None, sep=',')\n",
    "        else:\n",
    "            print(f\"Esta función no soporta la extensión {extension}\")"
   ]
  },
  {
   "cell_type": "code",
   "execution_count": 4,
   "id": "c75318c0",
   "metadata": {},
   "outputs": [
    {
     "name": "stdout",
     "output_type": "stream",
     "text": [
      "Esta función no soporta la extensión ipynb_checkpoints\n"
     ]
    }
   ],
   "source": [
    "pathOrigen = 'C:\\\\Users\\\\diego\\\\Desktop\\\\PI01D05\\\\PI01_DATA05\\\\Datasets' \n",
    "extensionDestino = \".csv\"\n",
    "directorioOrigen = \"Datasets\"\n",
    "directorioDestino = \"Datasets\"\n",
    "\n",
    "conversor_de_archivos(pathOrigen,extensionDestino, directorioOrigen, directorioDestino)"
   ]
  }
 ],
 "metadata": {
  "kernelspec": {
   "display_name": "Python 3 (ipykernel)",
   "language": "python",
   "name": "python3"
  },
  "language_info": {
   "codemirror_mode": {
    "name": "ipython",
    "version": 3
   },
   "file_extension": ".py",
   "mimetype": "text/x-python",
   "name": "python",
   "nbconvert_exporter": "python",
   "pygments_lexer": "ipython3",
   "version": "3.9.12"
  }
 },
 "nbformat": 4,
 "nbformat_minor": 5
}
